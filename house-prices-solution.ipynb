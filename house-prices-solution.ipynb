{
 "cells": [
  {
   "cell_type": "code",
   "execution_count": 1,
   "metadata": {},
   "outputs": [],
   "source": [
    "import pandas as pd\n",
    "import numpy as np\n",
    "import matplotlib.pyplot as plt\n",
    "%matplotlib inline\n",
    "import seaborn as sns\n",
    "sns.set(style=\"whitegrid\")\n",
    "%config InlineBackend.figure_format = 'retina'\n",
    "pd.set_option('display.max_columns', 100)\n",
    "pd.set_option('display.max_rows', 100)"
   ]
  },
  {
   "cell_type": "code",
   "execution_count": 2,
   "metadata": {},
   "outputs": [
    {
     "name": "stdout",
     "output_type": "stream",
     "text": [
      "Dataset has 2430 entries and 82 features.\n"
     ]
    }
   ],
   "source": [
    "# loading the data\n",
    "data = pd.read_csv('house-prices.csv')\n",
    "print('Dataset has {} entries and {} features.'.format(data.shape[0], data.shape[1]))"
   ]
  },
  {
   "cell_type": "code",
   "execution_count": 3,
   "metadata": {},
   "outputs": [],
   "source": [
    "# classify variables\n",
    "\n",
    "# this will be helpful when encoding by variable types\n",
    "\n",
    "# 1 - Numeric variables\n",
    "numeric = ['Lot Frontage', 'Lot Area', 'Mas Vnr Area','BsmtFin SF 1','BsmtFin SF 2','Bsmt Unf SF','Total Bsmt SF',\n",
    "          '1st Flr SF','2nd Flr SF','Low Qual Fin SF','Gr Liv Area','Garage Area','Wood Deck SF','Open Porch SF',\n",
    "           'Enclosed Porch','3Ssn Porch','Screen Porch','Pool Area','Misc Val',\n",
    "          ]\n",
    "# 2 - Categorical variables\n",
    "# 2.1 - Categorical variables, ordinal (possibility of ordering)\n",
    "categorical_ordinal = ['Lot Shape', 'Utilities', 'Land Slope', 'Overall Qual', 'Overall Cond', 'Exter Qual',\n",
    "                      'Exter Cond','Bsmt Qual', 'Bsmt Cond','Bsmt Exposure','BsmtFin Type 1','BsmtFin Type 2',\n",
    "                      'Heating QC','Electrical','Kitchen Qual','Functional','Fireplace Qu','Garage Finish','Garage Qual',\n",
    "                       'Garage Cond','Paved Drive','Pool QC','Fence'\n",
    "                      ]\n",
    "# 2.2 - Categorical variables, nominal (no possibility to order) \n",
    "categorical_nominal = ['MS SubClass','MS Zoning','Street', 'Alley', 'Land Contour', 'Lot Config', 'Neighborhood',\n",
    "                      'Condition 1', 'Condition 2', 'Bldg Type','House Style','Roof Style', 'Roof Matl','Exterior 1st',\n",
    "                      'Exterior 2nd','Mas Vnr Type','Foundation','Heating','Central Air','Garage Type','Misc Feature',\n",
    "                       'Sale Type','Sale Condition'\n",
    "                      ]\n",
    "# 2.3 - Categorical variables, discrete\n",
    "categorical_discrete = ['Year Built', 'Year Remod/Add','Bsmt Full Bath','Bsmt Half Bath','Full Bath','Half Bath',\n",
    "                       'Bedroom AbvGr','Kitchen AbvGr','TotRms AbvGrd','Fireplaces','Garage Yr Blt','Garage Cars','Mo Sold',\n",
    "                        'Yr Sold'\n",
    "                       ]\n",
    "categorical = categorical_ordinal + categorical_nominal + categorical_discrete"
   ]
  },
  {
   "cell_type": "code",
   "execution_count": 4,
   "metadata": {},
   "outputs": [],
   "source": [
    "# Function for preprocessing the data\n",
    "def preprocess_df(df):\n",
    "    \n",
    "    #handling the missing values\n",
    "    columns_to_drop = ['PID', 'Order']\n",
    "    columns_to_zero = ['Garage Area', 'Garage Cars', 'Total Bsmt SF', 'Bsmt Half Bath', 'Bsmt Full Bath', \n",
    "                      'BsmtFin SF 1', 'BsmtFin SF 2', 'Bsmt Unf SF']\n",
    "    columns_to_NA = ['Pool QC', 'Misc Feature', 'Alley', 'Fence', 'Fireplace Qu', 'Garage Type','Garage Yr Blt',\n",
    "                 'Garage Finish','Garage Qual','Garage Cond', 'Bsmt Qual' , 'Bsmt Cond' , 'Bsmt Exposure' ,\n",
    "                 'BsmtFin Type 1' , 'BsmtFin Type 2']\n",
    "    columns_to_none = ['Mas Vnr Type']\n",
    "    columns_to_mean = ['Mas Vnr Area', 'Lot Frontage']\n",
    "    columns_to_mode = ['Electrical']\n",
    "    df_clean = df.copy()\n",
    "    df_clean = df_clean.drop(columns_to_drop, axis=1)\n",
    "    df_clean[columns_to_zero] = df[columns_to_zero].fillna(0)\n",
    "    df_clean[columns_to_NA] = df[columns_to_NA].fillna('NA')\n",
    "    df_clean[columns_to_none] = df[columns_to_none].fillna('None')\n",
    "    df_clean[columns_to_mean] = df[columns_to_mean].fillna(df[columns_to_mean].mean())\n",
    "    df_clean[columns_to_mode] = df[columns_to_mode].fillna(df[columns_to_mode].mode().iloc[0,0]) \n",
    "    \n",
    "    #Remove outliers : very large houses (more than 4000 square feet)\n",
    "    df_clean = df_clean[df_clean['Gr Liv Area'] < 4000]\n",
    "    \n",
    "    # Feature engineering:\n",
    "    #Add a LogSalePrice variable to the DataFrame:\n",
    "    df_clean['LogSalePrice'] = np.log10(df_clean['SalePrice'])\n",
    "    # Total surface count\n",
    "    df_clean['Total_SF'] = df_clean['Total Bsmt SF'] + df_clean['Gr Liv Area']\n",
    "    # Total room count\n",
    "    df_clean['Total_rooms'] = (df_clean['TotRms AbvGrd'] + df_clean['Bsmt Full Bath'] +\n",
    "                               df_clean['Bsmt Half Bath'] + df_clean['Full Bath'] + df_clean['Half Bath']) \n",
    "    # Built before 1980 & no remodeling\n",
    "    df_clean['Built/Re bef 80'] = (df_clean['Year Remod/Add'] >1980)*1\n",
    "    return df_clean"
   ]
  },
  {
   "cell_type": "code",
   "execution_count": 5,
   "metadata": {},
   "outputs": [],
   "source": [
    "df_clean = preprocess_df(data)"
   ]
  },
  {
   "cell_type": "code",
   "execution_count": 6,
   "metadata": {},
   "outputs": [
    {
     "data": {
      "text/plain": [
       "0"
      ]
     },
     "execution_count": 6,
     "metadata": {},
     "output_type": "execute_result"
    }
   ],
   "source": [
    "# Final check for missing values\n",
    "df_clean.isnull().sum().sum()"
   ]
  },
  {
   "cell_type": "markdown",
   "metadata": {},
   "source": [
    "### 1.3 Outliers"
   ]
  },
  {
   "cell_type": "markdown",
   "metadata": {},
   "source": [
    "### TO DO : \n",
    "1. define a function to exclude outliers on the validation set"
   ]
  },
  {
   "cell_type": "code",
   "execution_count": null,
   "metadata": {
    "scrolled": false
   },
   "outputs": [],
   "source": [
    "# Find outliers:\n",
    "# plot of SALE PRICE versus GR LIV AREA \n",
    "plt.Figure(figsize=(8,8))\n",
    "plt.scatter(data['SalePrice'], data['Gr Liv Area'] );"
   ]
  },
  {
   "cell_type": "code",
   "execution_count": null,
   "metadata": {},
   "outputs": [],
   "source": [
    "#Remove very large houses (more than 4000 square feet) (this is included in the preprocessing function)\n",
    "#df_clean = df_clean[df_clean['Gr Liv Area'] < 4000]"
   ]
  },
  {
   "cell_type": "code",
   "execution_count": null,
   "metadata": {},
   "outputs": [],
   "source": [
    "#impact of removing theses 4 outliers\n",
    "a = df_clean['Gr Liv Area'].describe() - data['Gr Liv Area'].describe()\n",
    "print(a)\n",
    "plt.Figure(figsize=(8,8))\n",
    "plt.scatter(df_clean['SalePrice'], df_clean['Gr Liv Area']  );\n",
    "plt.show()"
   ]
  },
  {
   "cell_type": "markdown",
   "metadata": {
    "inputHidden": false,
    "outputHidden": false
   },
   "source": [
    "## 2. Encoding"
   ]
  },
  {
   "cell_type": "markdown",
   "metadata": {},
   "source": [
    "#### I defined 2 ways to encode the data frame:####\n",
    "0. First, encoding the ordinal variables by assigning a value from 0 (none) / 1 (poor) to 5 or 6 (excellent) to these variables with the .replace method, then either:\n",
    "    1. One-hot encoding nominal variables with pandas.get_dummies() (df_ohe)\n",
    "    2. Label Encoding categorical nominal variables with sklearn LabelEncoder (df_le)\n",
    "1. *what to do with discrete variables. ?*"
   ]
  },
  {
   "cell_type": "code",
   "execution_count": 7,
   "metadata": {},
   "outputs": [],
   "source": [
    "## FUNCTION TO FINISH ##\n",
    "# return 2 df, one with ohe, the other with labeling \n",
    "def encode(df):\n",
    "    # Encoding Ordinal variables:\n",
    "    # assigning a value from 0 (none) / 1 (poor) to 5 or 6 (excellent) to these variables\n",
    "    quality_features = ['Exter Qual', 'Exter Cond', 'Bsmt Qual', 'Bsmt Cond', 'Heating QC', 'Kitchen Qual',\n",
    "                    'Fireplace Qu', 'Garage Qual', 'Garage Cond', 'Pool QC']\n",
    "    df[quality_features] = df[quality_features].replace({\n",
    "        'Ex' : 5, 'Gd' : 4,'TA' : 3, 'Fa' : 2, 'Po' : 1, 'NA' : 0\n",
    "    })\n",
    "    \n",
    "    # Encoding other ordinal variables, with specific 'scales', creating a dict for each variable\n",
    "    other_ord_features = {\n",
    "        'Lot Shape' : {'Reg': 4, 'IR1': 3, 'IR2' : 2, 'IR3' : 1},\n",
    "        'Utilities' : {'AllPub': 4, 'NoSewr': 3, 'NoSeWa': 2, 'ELO': 1},\n",
    "        'Land Slope' : {'Gtl' : 3, 'Mod' : 2, 'Sev' : 1},\n",
    "        'Bsmt Exposure' : {'Gd' : 4, 'Av' : 3,'Mn' : 2, 'No' : 1, 'NA' : 0},\n",
    "        'BsmtFin Type 1' : {'GLQ' : 6, 'ALQ' : 5,'BLQ' : 4, 'Rec' : 3, 'LwQ' : 2, 'Unf' : 1, 'NA' : 0},\n",
    "        'BsmtFin Type 2' : {'GLQ' : 6, 'ALQ' : 5,'BLQ' : 4, 'Rec' : 3, 'LwQ' : 2, 'Unf' : 1, 'NA' : 0},\n",
    "        'Electrical' : {'SBrkr' : 5, 'FuseA' : 4,'FuseF' : 3, 'FuseP' : 2, 'Mix' : 1},\n",
    "        'Functional' : {'Typ' : 8, 'Min1' : 7,'Min2' : 6, 'Mod' : 5, 'Maj1' : 4, 'Maj2' : 3, 'Sev' : 2, 'Sal':1},\n",
    "        'Garage Finish' : {'Fin' : 3, 'RFn' : 2,'Unf' : 1, 'NA' : 0},\n",
    "        'Paved Drive' : {'Y' : 3, 'P' : 2,'N' : 1},\n",
    "        'Fence' : {'GdPrv' : 4, 'MnPrv' : 3,'GdWo' : 2, 'MnWw' : 1, 'NA' : 0},\n",
    "        'Garage Yr Blt' : {'NA' : 0}\n",
    "    }\n",
    "    df.replace(other_ord_features, inplace=True)   \n",
    "    \n",
    "    # One-hot encoding for nominal variables \n",
    "    df_ohe = pd.get_dummies(df, columns=categorical_nominal)\n",
    "    \n",
    "    # Label Encoding with sklearn:\n",
    "    # import preprocessing from sklearn\n",
    "    \n",
    "    #from sklearn import preprocessing\n",
    "    \n",
    "    # Create a LabelEncoder object and fit it to each feature in test DF\n",
    "    \n",
    "    #le = preprocessing.LabelEncoder()\n",
    "    \n",
    "    # use df.apply() to apply le.fit_transform to categorical_nominal features\n",
    "    \n",
    "    #df_le = df.copy()\n",
    "    #df_le[categorical_ordinal] = df_le[categorical_ordinal].apply(le.fit_transform)\n",
    "    \n",
    "    print('Origina Size:', df.shape, 'Size when OH encoded:', df_ohe.shape)#, 'Size when label encoded:', df_le.shape)\n",
    "    return df_ohe#, df_le"
   ]
  },
  {
   "cell_type": "code",
   "execution_count": 8,
   "metadata": {},
   "outputs": [
    {
     "name": "stdout",
     "output_type": "stream",
     "text": [
      "Origina Size: (2426, 84) Size when OH encoded: (2426, 247)\n"
     ]
    }
   ],
   "source": [
    "df_ohe = encode(df_clean)"
   ]
  },
  {
   "cell_type": "code",
   "execution_count": null,
   "metadata": {},
   "outputs": [],
   "source": [
    "##### Here is my problem: #####\n",
    "\n",
    "#2. Label Encoding categorical nominal variables with sklearn LabelEncoder \n",
    "#Labeling with scikit learn (instead of OHE) the categorical_nominal features in order to reduce dimensionality\n",
    "#for cat ORDINAL, the order is not the same, so I stick to the .replace method\n",
    "\n",
    "# import preprocessing from sklearn\n",
    "from sklearn import preprocessing\n",
    "# Create a LabelEncoder object and fit it to each feature in test DF\n",
    "le = preprocessing.LabelEncoder()\n",
    "# use df.apply() to apply le.fit_transform to categorical_nominal features\n",
    "\n",
    "df_le = df_clean.copy()\n",
    "#df_le[categorical_ordinal].apply(le.fit_transform) #not working ?\n",
    "\n",
    "#df_le = df_clean[categorical_nominal].apply(le.fit_transform) # works but has only the transformed columns\n",
    "\n",
    "print('Origina Size:', df_clean.shape)\n",
    "print('Size when Label encoded:', df_le.shape)"
   ]
  },
  {
   "cell_type": "code",
   "execution_count": null,
   "metadata": {},
   "outputs": [],
   "source": [
    "#I don't understand why the following works, ie. returne the labeled columns\n",
    "df_le[categorical_ordinal].apply(le.fit_transform).head()"
   ]
  },
  {
   "cell_type": "code",
   "execution_count": null,
   "metadata": {
    "scrolled": true
   },
   "outputs": [],
   "source": [
    "# but this doesn't return the labeled columns ?\n",
    "df_le[categorical_ordinal] = df_le[categorical_ordinal].apply(le.fit_transform)\n",
    "df_le[categorical_nominal].head()"
   ]
  },
  {
   "cell_type": "code",
   "execution_count": null,
   "metadata": {},
   "outputs": [],
   "source": [
    "#and this doesn't work neither : \n",
    "df_le.apply(le.fit_transform(df_clean[categorical_nominal]))"
   ]
  },
  {
   "cell_type": "code",
   "execution_count": 9,
   "metadata": {},
   "outputs": [],
   "source": [
    "# It works with a sklearn pipeline, although it's not my code & I did not yet looked further into pipelines\n",
    "from sklearn.preprocessing import LabelEncoder\n",
    "from sklearn.pipeline import Pipeline\n",
    "\n",
    "class MultiColumnLabelEncoder:\n",
    "    def __init__(self,columns = None):\n",
    "        self.columns = columns # array of column names to encode\n",
    "\n",
    "    def fit(self,X,y=None):\n",
    "        return self # not relevant here\n",
    "\n",
    "    def transform(self,X):\n",
    "        '''\n",
    "        Transforms columns of X specified in self.columns using\n",
    "        LabelEncoder(). If no columns specified, transforms all\n",
    "        columns in X.\n",
    "        '''\n",
    "        output = X.copy()\n",
    "        if self.columns is not None:\n",
    "            for col in self.columns:\n",
    "                output[col] = LabelEncoder().fit_transform(output[col])\n",
    "        else:\n",
    "            for colname,col in output.iteritems():\n",
    "                output[colname] = LabelEncoder().fit_transform(col)\n",
    "        return output\n",
    "\n",
    "    def fit_transform(self,X,y=None):\n",
    "        return self.fit(X,y).transform(X)"
   ]
  },
  {
   "cell_type": "code",
   "execution_count": 10,
   "metadata": {},
   "outputs": [
    {
     "data": {
      "text/plain": [
       "(2426, 84)"
      ]
     },
     "execution_count": 10,
     "metadata": {},
     "output_type": "execute_result"
    }
   ],
   "source": [
    "# I want to encode only the categorical_nominal features, while leaving the other features untransformed.\n",
    "df_le = MultiColumnLabelEncoder(columns = categorical_nominal).fit_transform(df_clean)\n",
    "df_le.shape"
   ]
  },
  {
   "cell_type": "markdown",
   "metadata": {},
   "source": [
    "## 3. Feature engineering\n"
   ]
  },
  {
   "cell_type": "markdown",
   "metadata": {},
   "source": [
    "\n",
    "One issue is in regards to homoscedasticity and assumption violations. The graph included in the article appears to indicate heteroscedasticity with variation increasing with sale price and this problem is evident in many simple home pricing models that focus only on house and lot sizes. Though this violation can be alleviated by transforming the response variable (sale price), the resulting equation yields difficult to interpret fitted values (selling price in log or square root dollars). This situation gives the instructor the opportunity to talk about the costs (biased estimators, incorrect statistical tests, etc.) and benefits (ease of use) of not correcting this assumption violation. If the purpose in building the model is simply to allow a typical buyer or real estate agent to sit down and estimate the selling price of a house, such transformations may be unnecessary or inappropriate for the task at hand. This issue could also open into a discussion on the contrasts and comparisons between data mining, predictive models, and formal statistical inference.\n",
    "\n",
    "A second issue closely related to the intended use of the model, is the handling of outliers and unusual observations. In general, I instruct my students to never throw away data points simply because they do not match a priori expectations (or other data points). I strongly make this point in the situation where data are being analyzed for research purposes that will be shared with a larger audience. Alternatively, if the purpose is to once again create a common use model to estimate a ìtypicalî sale, it is in the modelerís best interest to remove any observations that do not seem typical (such as foreclosures or family sales).\n",
    "\n"
   ]
  },
  {
   "cell_type": "code",
   "execution_count": null,
   "metadata": {},
   "outputs": [],
   "source": [
    "# Let's have a closer look at the target variable: before removing outliers, skewed distribution\n",
    "sns.distplot(data['SalePrice']);\n",
    "print(\"Skewness: %f\" % data['SalePrice'].skew())\n",
    "print(\"Kurtosis: %f\" % data['SalePrice'].kurt())"
   ]
  },
  {
   "cell_type": "code",
   "execution_count": null,
   "metadata": {
    "scrolled": true
   },
   "outputs": [],
   "source": [
    "#After removing outliers, reduces skewness a bit\n",
    "sns.distplot(df_clean['SalePrice']);\n",
    "print(\"Skewness: %f\" % df_clean['SalePrice'].skew())\n",
    "print(\"Kurtosis: %f\" % df_clean['SalePrice'].kurt())"
   ]
  },
  {
   "cell_type": "code",
   "execution_count": null,
   "metadata": {},
   "outputs": [],
   "source": [
    "# Add a LogSalePrice variable to the DataFrame (this is included in the preprocessing function)\n",
    "#df_clean['LogSalePrice'] = np.log10(df_clean['SalePrice'])"
   ]
  },
  {
   "cell_type": "code",
   "execution_count": null,
   "metadata": {},
   "outputs": [],
   "source": [
    "# plot of the log10 of SalePrice :, skewness greatly reduced\n",
    "sns.distplot(df_clean['LogSalePrice']);\n",
    "print(\"Skewness: %f\" % df_clean['LogSalePrice'].skew())\n",
    "print(\"Kurtosis: %f\" % df_clean['LogSalePrice'].kurt())"
   ]
  },
  {
   "cell_type": "code",
   "execution_count": null,
   "metadata": {},
   "outputs": [],
   "source": [
    "# Total surface count\n",
    "#df_clean['Total_SF'] = df_clean['Total Bsmt SF'] + df_clean['Gr Liv Area']\n",
    "print(df_clean['Total_SF'].describe())"
   ]
  },
  {
   "cell_type": "code",
   "execution_count": null,
   "metadata": {
    "scrolled": true
   },
   "outputs": [],
   "source": [
    "# Total count of rooms\n",
    "#df_clean['Total_rooms'] = (df_clean['TotRms AbvGrd'] + df_clean[''Bsmt Full Bath'] + \n",
    "#                                df_clean['Bsmt Half Bath'] + df_clean['Full Bath'] + df_clean['Half Bath']) \n",
    "\n",
    "total_rooms = ['TotRms AbvGrd', 'Bsmt Full Bath', 'Bsmt Half Bath', 'Full Bath', 'Half Bath']\n",
    "print(df_clean[total_rooms].describe())"
   ]
  },
  {
   "cell_type": "code",
   "execution_count": null,
   "metadata": {},
   "outputs": [],
   "source": [
    "# indicator variables (year of construction is older than some threshold)\n",
    "# Built before 1980 & no remodeling \n",
    "# df_clean['Built/Re bef 80'] = (df_clean['Year Remod/Add'] >1980)*1\n",
    "\n",
    "sns.distplot(df_clean['Year Remod/Add']);\n",
    "print(df_clean['Year Remod/Add'].describe())"
   ]
  },
  {
   "cell_type": "code",
   "execution_count": null,
   "metadata": {
    "scrolled": true
   },
   "outputs": [],
   "source": [
    "#add polynomial features...\n",
    "# to which variable ? to the most correlated one ? we are looking to add linearity..."
   ]
  },
  {
   "cell_type": "markdown",
   "metadata": {},
   "source": [
    "## 4. Feature selection"
   ]
  },
  {
   "cell_type": "code",
   "execution_count": null,
   "metadata": {},
   "outputs": [],
   "source": [
    "# Feature selection based on what ?\n",
    "# 1-Highly correlated features to target but iuncorrelated to each other (only for numerical features?)\n",
    "# 2-intuition : works only with few features\n",
    "# 3-other ? on models ?\n",
    "# ? how to use categorical features ? \n",
    "\n",
    "# how to select features ?\n",
    "#1- manually, \n",
    "#2- automation?"
   ]
  },
  {
   "cell_type": "code",
   "execution_count": null,
   "metadata": {},
   "outputs": [],
   "source": [
    "# 3 models, with few to all features\n",
    "# choose the features : \n",
    "# scatter plot against sales price to prove the point\n",
    "# !! the use of scatter plots instead of boxplots, which are more suitable for categorical variables visualization.\n",
    "\n",
    "# collinear variables: what to do with highly collinear variables ?\n",
    "\n",
    "# 1) without any in depth analysis, I would say that the most important features are =\n",
    "# OverallQual (which is a variable that I don't like because I don't know how it was computed; a funny exercise would be to predict 'OverallQual' using all the other variables available).\n",
    "# YearBuilt.\n",
    "# TotalBsmtSF.\n",
    "# GrLivArea."
   ]
  },
  {
   "cell_type": "code",
   "execution_count": null,
   "metadata": {},
   "outputs": [],
   "source": [
    "#compute : \n",
    "# number of baths / basement baths\n",
    "#number of rooms"
   ]
  },
  {
   "cell_type": "code",
   "execution_count": null,
   "metadata": {},
   "outputs": [],
   "source": [
    "# study correl of : \n",
    "#'Overall Qual' & Overall Cond\n",
    "#Year Remod/Add (Discrete): Remodel date (same as construction date if no remodeling or additions)\n",
    "#'Garage Qual'& 'Garage Cond'\n",
    "#'Misc Feature','Misc Val'...with sale price ?\n",
    "    "
   ]
  },
  {
   "cell_type": "markdown",
   "metadata": {},
   "source": [
    "### 4.1 Univariate feature selection\n",
    "Univariate feature selection examines each feature individually to determine the strength of the relationship of the feature with the response variable.\n",
    "\n"
   ]
  },
  {
   "cell_type": "markdown",
   "metadata": {},
   "source": [
    "### 4.1.1 Pearson correlation coef\n",
    "One of the simplest method for understanding a feature’s relation to the response variable is Pearson correlation coefficient, which measures linear correlation between two variables. The resulting value lies in [-1;1]\n",
    "\n",
    "__Works good when linear relation between feature and target__\n",
    "\n",
    "There are at least two reasons why to prefer Pearson correlation over more sophisticated methods such as MIC or distance correlation when the relationship is close to linear. For one, computing the Pearson correlation is much faster, which may be important in case of big datasets. Secondly, the range of the correlation coefficient is [-1;1] (instead of [0;1] for MIC and distance correlation). This can relay useful extra information on whether the relationship is negative or positive, i.e. do higher feature values imply higher values of the response variables or vice versa. But of course the question of negative versus positive correlation is only well-posed if the relationship between the two variables is monotonic\n"
   ]
  },
  {
   "cell_type": "code",
   "execution_count": null,
   "metadata": {
    "scrolled": true
   },
   "outputs": [],
   "source": [
    "corr = df_clean.corr()\n",
    "corr.sort_values([\"LogSalePrice\"], ascending = False, inplace = True)\n",
    "print(corr.LogSalePrice)"
   ]
  },
  {
   "cell_type": "code",
   "execution_count": null,
   "metadata": {},
   "outputs": [],
   "source": [
    "corr = df_clean.corr()\n",
    "corr.sort_values([\"SalePrice\"], ascending = False, inplace = True)\n",
    "print(corr.SalePrice-corr.LogSalePrice)"
   ]
  },
  {
   "cell_type": "markdown",
   "metadata": {},
   "source": [
    "__better method :__ \n",
    " Scipy‘s pearsonr method computes both the correlation and p-value for the correlation, roughly showing the probability of an uncorrelated system creating a correlation value of this magnitude."
   ]
  },
  {
   "cell_type": "code",
   "execution_count": null,
   "metadata": {},
   "outputs": [],
   "source": [
    "# same corr matrix but presented graphically:\n",
    "corrmat = data.corr()\n",
    "f, ax = plt.subplots(figsize=(12, 9))\n",
    "sns.heatmap(corrmat, vmax=.8, square=True);"
   ]
  },
  {
   "cell_type": "code",
   "execution_count": null,
   "metadata": {},
   "outputs": [],
   "source": [
    "# we detect highly collinear variables in the heatmap (light squares) :\n",
    "# Total Bsmt SF & 1st Floor SF\n",
    "# Garage features"
   ]
  },
  {
   "cell_type": "code",
   "execution_count": null,
   "metadata": {},
   "outputs": [],
   "source": [
    "# most correlated features\n",
    "corrmat = data.corr()\n",
    "top_corr_features = corrmat.index[abs(corrmat[\"SalePrice\"])>0.5]\n",
    "plt.figure(figsize=(8,8))\n",
    "g = sns.heatmap(data[top_corr_features].corr(),annot=True)"
   ]
  },
  {
   "cell_type": "code",
   "execution_count": null,
   "metadata": {},
   "outputs": [],
   "source": [
    "# error on this graph ??\n",
    "# heatmap zoomed on Sale Price\n",
    "k = 10 #number of variables for heatmap\n",
    "cols = corrmat.nlargest(k, 'SalePrice')['SalePrice'].index\n",
    "cm = np.corrcoef(data[cols].values.T)\n",
    "sns.set(font_scale=1.25)\n",
    "hm = sns.heatmap(cm, cbar=True, annot=True, square=True, fmt='.2f', annot_kws={'size': 10}, yticklabels=cols.values, xticklabels=cols.values)\n",
    "plt.show()"
   ]
  },
  {
   "cell_type": "code",
   "execution_count": null,
   "metadata": {},
   "outputs": [],
   "source": [
    "# focus on year built : onlys slightly correlated\n",
    "#'OverallQual', 'GrLivArea' and 'TotalBsmtSF' are strongly correlated with 'SalePrice'. \n",
    "# garage : only pick one\n",
    "# 'TotalBsmtSF' and '1stFloor': only pick one\n",
    "#'TotRmsAbvGrd' and 'GrLivArea', only pick one"
   ]
  },
  {
   "cell_type": "code",
   "execution_count": null,
   "metadata": {},
   "outputs": [],
   "source": [
    "cols = ['SalePrice', 'Garage Cars', 'Garage Area']\n",
    "corr = data[cols].corr()\n",
    "corr.sort_values([\"SalePrice\"], ascending = False, inplace = True)\n",
    "print(corr.SalePrice)"
   ]
  },
  {
   "cell_type": "code",
   "execution_count": null,
   "metadata": {
    "scrolled": false
   },
   "outputs": [],
   "source": [
    "cols = ['Garage Cars', 'Garage Area']\n",
    "corr = data[cols].corr()\n",
    "corr.sort_values(['Garage Cars'], ascending = False, inplace = True)\n",
    "print(corr['Garage Cars'])"
   ]
  },
  {
   "cell_type": "markdown",
   "metadata": {},
   "source": [
    "#### now, plot the data\n",
    "__relying only on the correlation value on interpreting the relationship of two variables can be highly misleading, so it is always worth plotting the data__"
   ]
  },
  {
   "cell_type": "code",
   "execution_count": null,
   "metadata": {},
   "outputs": [],
   "source": [
    "#scatter plot grlivarea/saleprice\n",
    "var = 'Gr Liv Area'\n",
    "data.plot.scatter(x=var, y='SalePrice', ylim=(0,800000));"
   ]
  },
  {
   "cell_type": "code",
   "execution_count": null,
   "metadata": {},
   "outputs": [],
   "source": [
    "#scatter plot totalbsmtsf/saleprice\n",
    "var = 'Total Bsmt SF'\n",
    "data.plot.scatter(x=var, y='SalePrice', ylim=(0,800000));"
   ]
  },
  {
   "cell_type": "code",
   "execution_count": null,
   "metadata": {},
   "outputs": [],
   "source": [
    "# how to READ A BOXPLOT ?\n",
    "\n",
    "# relationship with categorical features\n",
    "#box plot overallqual/saleprice\n",
    "var = 'Overall Qual'\n",
    "f, ax = plt.subplots(figsize=(8, 6))\n",
    "fig = sns.boxplot(x=var, y=\"SalePrice\", data=data)\n",
    "fig.axis(ymin=0, ymax=800000);"
   ]
  },
  {
   "cell_type": "code",
   "execution_count": null,
   "metadata": {},
   "outputs": [],
   "source": [
    "var = 'Year Built'\n",
    "f, ax = plt.subplots(figsize=(16, 8))\n",
    "fig = sns.boxplot(x=var, y=\"SalePrice\", data=data)\n",
    "fig.axis(ymin=0, ymax=800000);\n",
    "plt.xticks(rotation=90);"
   ]
  },
  {
   "cell_type": "markdown",
   "metadata": {},
   "source": [
    "#### Feature selection : conclusion\n",
    "GrLivArea' and 'TotalBsmtSF' seem to be linearly related with 'SalePrice'. Both relationships are positive, which means that as one variable increases, the other also increases. In the case of 'TotalBsmtSF', we can see that the slope of the linear relationship is particularly high.\n",
    "'OverallQual' and 'YearBuilt' also seem to be related with 'SalePrice'. The relationship seems to be stronger in the case of 'OverallQual', where the box plot shows how sales prices increase with the overall quality."
   ]
  },
  {
   "cell_type": "code",
   "execution_count": null,
   "metadata": {},
   "outputs": [],
   "source": [
    "#  do a more objective analysis, and present it before the feature selection"
   ]
  },
  {
   "cell_type": "code",
   "execution_count": null,
   "metadata": {},
   "outputs": [],
   "source": [
    "# scatter plot between sale price and correlated features\n",
    "#convert data types to FLOAT\n",
    "sns.set()\n",
    "cols = ['SalePrice', 'Overall Qual', 'Gr Liv Area', 'Garage Cars', 'Total Bsmt SF', 'Full Bath', 'Year Built']\n",
    "sns.pairplot(data[cols], size = 2.5)\n",
    "plt.show();"
   ]
  },
  {
   "cell_type": "code",
   "execution_count": null,
   "metadata": {},
   "outputs": [],
   "source": [
    "sns.pairplot(data)"
   ]
  },
  {
   "cell_type": "code",
   "execution_count": null,
   "metadata": {},
   "outputs": [],
   "source": [
    "# univariate normality : log of sale price (target value)\n",
    "# possible to seek normality on multiple features ? especially for the first model w/ 3 features\n"
   ]
  },
  {
   "cell_type": "code",
   "execution_count": null,
   "metadata": {},
   "outputs": [],
   "source": []
  },
  {
   "cell_type": "markdown",
   "metadata": {
    "inputHidden": false,
    "outputHidden": false
   },
   "source": [
    "### 5. Model selection"
   ]
  },
  {
   "cell_type": "markdown",
   "metadata": {},
   "source": [
    "You can then create and evaluate different models. Split the data into train and test sets (50-50 split). Fit your model using the train set and evaluate it using the test one. Your analysis should include the following models.\n",
    "\n",
    "A \"simple\" model with two variables (three with the target variable)\n",
    "An \"intermediate\" model (between 10 and 20 variables).\n",
    "A \"complex model\" with all variables.\n",
    "Count the number of variables before applying one-hot encoding. Also, these variables can be combinations of other variables. For instance, the author of the data set suggests fitting a model using the total surface and the sale condition. This model has a total of two variables even if the total surface is itself a combination of two variables (basement + above grade surfaces) and encoding the sale condition variable with one-hot encoding leads to the creation of 6 dummy variables.\n",
    "\n",
    "Try adding regularization (i.e., Ridge regression) for the intermediate and complex models. Tune the regularization strength using grid search.\n",
    "\n",
    "Important: Remember to use the logarithm of the sale prices to fit your models.\n",
    "\n"
   ]
  },
  {
   "cell_type": "code",
   "execution_count": null,
   "metadata": {},
   "outputs": [],
   "source": [
    "## only linear regression models ??\n",
    "# lr, huber loss, SGD, RIDGE Regression ?"
   ]
  },
  {
   "cell_type": "code",
   "execution_count": 11,
   "metadata": {},
   "outputs": [
    {
     "name": "stdout",
     "output_type": "stream",
     "text": [
      "Train DataFrame: (1213, 247)\n",
      "Test DataFrame: (1213, 247)\n"
     ]
    }
   ],
   "source": [
    "from sklearn.model_selection import train_test_split\n",
    "\n",
    "# Split into train/test sets\n",
    "train_df, test_df = train_test_split(df_ohe, train_size=0.5, test_size=0.5, random_state=0)\n",
    "\n",
    "print('Train DataFrame:', train_df.shape)\n",
    "print('Test DataFrame:', test_df.shape)"
   ]
  },
  {
   "cell_type": "code",
   "execution_count": 12,
   "metadata": {},
   "outputs": [],
   "source": [
    "# check with Fred if this works ? some strange RMSE values, \n",
    "#maybe a problem with the tuple returned and its decomposition\n",
    "\n",
    "def create_variables(features, target):\n",
    "    X_tr, y_tr, X_te, y_te = None, None, None, None\n",
    "    X_tr = train_df[features].values\n",
    "    y_tr = train_df[target].values\n",
    "    X_te = test_df[features].values \n",
    "    y_te = test_df[target].values\n",
    "    print('X_tr shape:', X_tr.shape, 'y_tr shape:', y_tr.shape,'X_te shape:', X_te.shape, 'y_te shape:', y_te.shape)\n",
    "    return X_tr, y_tr, X_te, y_te\n",
    "\n",
    "#features = ['Overall Qual', 'Gr Liv Area']\n",
    "#X_tr, y_tr, X_te, y_te = create_variables(features, 'LogSalePrice')"
   ]
  },
  {
   "cell_type": "code",
   "execution_count": 13,
   "metadata": {},
   "outputs": [],
   "source": [
    "# Define error metric : \n",
    "# Root mean squared error\n",
    "def RMSE(y, y_pred):\n",
    "    mse = np.mean(np.square(y - y_pred)) \n",
    "    return np.sqrt(mse) \n",
    "\n",
    "# Mean absolute error\n",
    "def MAE(y, y_pred):\n",
    "    return np.mean(np.abs(y - y_pred))    "
   ]
  },
  {
   "cell_type": "code",
   "execution_count": 14,
   "metadata": {},
   "outputs": [],
   "source": [
    "from sklearn.linear_model import LinearRegression, HuberRegressor\n",
    "\n",
    "# Function to fit a linear regression\n",
    "def fit_lr(X_train, y_train, X_test):\n",
    "    # Create a linear regression\n",
    "    lr = LinearRegression()\n",
    "    \n",
    "    # Fit it to train data\n",
    "    lr.fit(X_train, y_train)\n",
    "    \n",
    "    # Compute predictions for test set\n",
    "    y_pred = lr.predict(X_test)\n",
    "    return y_pred\n",
    "\n",
    "# Function to fit Huber loss\n",
    "def fit_hl(X_train, y_train, X_test):\n",
    "    huber = HuberRegressor(epsilon=1.45)\n",
    "    huber.fit(X_train, y_train) # Fit to train data\n",
    "    y_pred = huber.predict(X_test) #compute predictions for test set\n",
    "    return y_pred"
   ]
  },
  {
   "cell_type": "markdown",
   "metadata": {},
   "source": [
    "#### fit a \"simple\" model with two variables (three with the target variable)\n"
   ]
  },
  {
   "cell_type": "code",
   "execution_count": null,
   "metadata": {},
   "outputs": [],
   "source": [
    "features = ['Overall Qual', 'Gr Liv Area']\n",
    "\n",
    "# Create X/y variables\n",
    "\n",
    "#using the function create_variables:\n",
    "#X_tr, y_tr, X_te, y_te = create_variables(features, 'LogSalePrice')\n",
    "\n",
    "X_tr = train_df[features].values\n",
    "y_tr = train_df.LogSalePrice.values\n",
    "X_te = test_df[features].values \n",
    "y_te = test_df.LogSalePrice.values\n",
    "\n",
    "print('X_tr shape:', X_tr.shape, 'y_tr shape:', y_tr.shape,'X_te shape:', X_te.shape, 'y_te shape:', y_te.shape)"
   ]
  },
  {
   "cell_type": "code",
   "execution_count": null,
   "metadata": {
    "scrolled": true
   },
   "outputs": [],
   "source": [
    "# Median baseline\n",
    "rmse_baseline = RMSE(y_te, np.median(y_te))\n",
    "mae_baseline = MAE(10**y_te, np.median(10**y_te))\n",
    "\n",
    "print('RMSE baseline: {:.3f}'.format(rmse_baseline))\n",
    "print('MAE baseline: {:.3f}'.format(mae_baseline))"
   ]
  },
  {
   "cell_type": "code",
   "execution_count": null,
   "metadata": {},
   "outputs": [],
   "source": [
    "# Linear regression\n",
    "y_pred = fit_lr(X_tr, y_tr, X_te)\n",
    "rmse_lr = RMSE(y_te, y_pred)\n",
    "mae_lr = MAE(10**y_te, 10**y_pred)\n",
    "\n",
    "print('RMSE linear regression: {:.3f}'.format(rmse_lr))\n",
    "print('MAE linear regression: {:.3f}'.format(mae_lr))"
   ]
  },
  {
   "cell_type": "code",
   "execution_count": null,
   "metadata": {},
   "outputs": [],
   "source": [
    "#with SalePrice (not the log value)\n",
    "\n",
    "# Create X/y variables\n",
    "features = ['Overall Qual', 'Gr Liv Area']\n",
    "\n",
    "X_tr = train_df[features].values\n",
    "y_tr = train_df.SalePrice.values\n",
    "\n",
    "X_te = test_df[features].values\n",
    "y_te = test_df.SalePrice.values\n",
    "\n",
    "# Linear regression\n",
    "y_pred = fit_lr(X_tr, y_tr, X_te)\n",
    "rmse_lr = RMSE(y_te, y_pred)\n",
    "mae_lr = MAE(10**y_te, 10**y_pred)\n",
    "\n",
    "print('RMSE baseline: {:.3f}'.format(rmse_baseline))\n",
    "print('RMSE linear regression: {:.3f}'.format(rmse_lr))"
   ]
  },
  {
   "cell_type": "code",
   "execution_count": 17,
   "metadata": {},
   "outputs": [
    {
     "name": "stdout",
     "output_type": "stream",
     "text": [
      "RMSE linear regression: 0.101\n",
      "MAE linear regression: 28942.512\n"
     ]
    }
   ],
   "source": [
    "#fitting a model using the total surface and the sale condition. \n",
    "#This model has a total of two variables even if the total surface is itself a combination of\n",
    "#two variables (basement + above grade surfaces) and encoding the sale condition variable with \n",
    "#one-hot encoding leads to the creation of 6 dummy variables.\n",
    "\n",
    "features = ['Total_SF', 'Sale Condition_Abnorml', 'Sale Condition_AdjLand', 'Sale Condition_Alloca',\n",
    "            'Sale Condition_Family', 'Sale Condition_Normal', 'Sale Condition_Partial']\n",
    "\n",
    "#To DO :\n",
    "#make it easy to select OH encoded variables from the same source column : search for regex='Sale Condition' ?\n",
    "\n",
    "# Create variables\n",
    "#using the function create_variables:\n",
    "#X_tr, y_tr, X_te, y_te = create_variables(features, 'LogSalePrice')\n",
    "\n",
    "X_tr = train_df[features].values\n",
    "y_tr = train_df.LogSalePrice.values\n",
    "X_te = test_df[features].values \n",
    "y_te = test_df.LogSalePrice.values\n",
    "\n",
    "# Median baseline\n",
    "rmse_baseline = RMSE(y_te, np.median(y_te))\n",
    "mae_baseline = MAE(10**y_te, np.median(10**y_te))\n",
    "\n",
    "# Linear regression\n",
    "y_pred = fit_lr(X_tr, y_tr, X_te)\n",
    "rmse_lr = RMSE(y_te, y_pred)\n",
    "mae_lr = MAE(10**y_te, 10**y_pred)\n",
    "\n",
    "print('RMSE linear regression: {:.3f}'.format(rmse_lr))\n",
    "print('MAE linear regression: {:.3f}'.format(mae_lr))"
   ]
  },
  {
   "cell_type": "code",
   "execution_count": 16,
   "metadata": {
    "scrolled": true
   },
   "outputs": [
    {
     "name": "stdout",
     "output_type": "stream",
     "text": [
      "RMSE linear regression: 0.076\n",
      "RMSE Huber Loss: 0.083\n",
      "MAE linear regression: 19396.498\n",
      "MAE Huber Loss: 22151.867\n"
     ]
    }
   ],
   "source": [
    "#fitting a model using the following features:\n",
    "features = ['Total_SF', 'Overall Qual', 'Garage Cars', 'Year Built']\n",
    "\n",
    "# Create variables\n",
    "#using the function create_variables:\n",
    "#X_tr, y_tr, X_te, y_te = create_variables(features, 'LogSalePrice')\n",
    "\n",
    "X_tr = train_df[features].values\n",
    "y_tr = train_df.LogSalePrice.values\n",
    "X_te = test_df[features].values \n",
    "y_te = test_df.LogSalePrice.values\n",
    "\n",
    "# Linear regression\n",
    "y_pred = fit_lr(X_tr, y_tr, X_te)\n",
    "rmse_lr = RMSE(y_te, y_pred)\n",
    "mae_lr = MAE(10**y_te, 10**y_pred)\n",
    "\n",
    "# Huber Loss\n",
    "y_pred_hl = fit_hl(X_tr, y_tr, X_te)\n",
    "rmse_hl = RMSE(y_te, y_pred_hl)\n",
    "mae_hl = MAE(10**y_te, 10**y_pred_hl)\n",
    "\n",
    "print('RMSE linear regression: {:.3f}'.format(rmse_lr))\n",
    "print('RMSE Huber Loss: {:.3f}'.format(rmse_hl))\n",
    "print('MAE linear regression: {:.3f}'.format(mae_lr))\n",
    "print('MAE Huber Loss: {:.3f}'.format(mae_hl))"
   ]
  },
  {
   "cell_type": "code",
   "execution_count": 15,
   "metadata": {
    "scrolled": true
   },
   "outputs": [
    {
     "name": "stderr",
     "output_type": "stream",
     "text": [
      "/Applications/Anaconda/anaconda3/envs/exts-aml1/lib/python3.6/site-packages/ipykernel_launcher.py:17: RuntimeWarning: overflow encountered in power\n"
     ]
    },
    {
     "name": "stdout",
     "output_type": "stream",
     "text": [
      "RMSE linear regression: 173.477\n",
      "RMSE Huber Loss: 0.082\n",
      "MAE linear regression: inf\n",
      "MAE Huber Loss: 20829.787\n"
     ]
    }
   ],
   "source": [
    "# Fitting a model with all the features\n",
    "columns_to_exclude = ['SalePrice','LogSalePrice']\n",
    "features = df_ohe.drop(columns_to_exclude, axis = 1).columns\n",
    "\n",
    "# Create variables\n",
    "#using the function create_variables:\n",
    "#X_tr, y_tr, X_te, y_te = create_variables(features, 'LogSalePrice')\n",
    "\n",
    "X_tr = train_df[features].values\n",
    "y_tr = train_df.LogSalePrice.values\n",
    "X_te = test_df[features].values \n",
    "y_te = test_df.LogSalePrice.values\n",
    "\n",
    "# Linear regression\n",
    "y_pred = fit_lr(X_tr, y_tr, X_te)\n",
    "rmse_lr = RMSE(y_te, y_pred)\n",
    "mae_lr = MAE(10**y_te, 10**y_pred)\n",
    "\n",
    "# Huber Loss\n",
    "y_pred_hl = fit_hl(X_tr, y_tr, X_te)\n",
    "rmse_hl = RMSE(y_te, y_pred_hl)\n",
    "mae_hl = MAE(10**y_te, 10**y_pred_hl)\n",
    "\n",
    "print('RMSE linear regression: {:.3f}'.format(rmse_lr))\n",
    "print('RMSE Huber Loss: {:.3f}'.format(rmse_hl))\n",
    "print('MAE linear regression: {:.3f}'.format(mae_lr))\n",
    "print('MAE Huber Loss: {:.3f}'.format(mae_hl))"
   ]
  },
  {
   "cell_type": "code",
   "execution_count": 18,
   "metadata": {},
   "outputs": [
    {
     "data": {
      "image/png": "[encoded data removed]",
      "text/plain": [
       "<matplotlib.figure.Figure at 0x1a0e7077f0>"
      ]
     },
     "metadata": {
      "image/png": {
       "height": 248,
       "width": 375
      }
     },
     "output_type": "display_data"
    }
   ],
   "source": [
    "# Plot models\n",
    "sale_price = X_te[:, 0] \n",
    "plt.scatter(sale_price, y_te, s=10, label='test points')\n",
    "plt.scatter(sale_price, y_pred_hl, s=10, label='predictions (huber loss)')\n",
    "plt.legend()\n",
    "plt.show()"
   ]
  },
  {
   "cell_type": "markdown",
   "metadata": {},
   "source": [
    "### Understanding the error metric"
   ]
  },
  {
   "cell_type": "markdown",
   "metadata": {},
   "source": [
    "FRED:\n",
    "You can get the MAE scores in dollars by raising your predictions to power 10: MAE(10**y_te, 10**y_pred) where y_te and y_pred are in \"log10-dollars\". In this project, the MAE metric is very important to get a more intuitive score to report - an MAE of 50,000 means that your predictions are on average 50 thousand dollars away from the observed price. Thanks for asking."
   ]
  },
  {
   "cell_type": "code",
   "execution_count": null,
   "metadata": {},
   "outputs": [],
   "source": [
    "# Final comparison\n",
    "mae_values = [mae_baseline, mae_lr, mae_lr2, mae_wdnwd]\n",
    "titles = ['median', 'lr', 'lr new features', 'two models']\n",
    "\n",
    "xcor = np.arange(len(mae_values))\n",
    "plt.bar(xcor, mae_values)\n",
    "plt.xticks(xcor, titles)\n",
    "\n",
    "plt.ylabel('MAE')\n",
    "plt.show()"
   ]
  }
 ],
 "metadata": {
  "kernelspec": {
   "display_name": "Python 3",
   "language": "python",
   "name": "python3"
  },
  "language_info": {
   "codemirror_mode": {
    "name": "ipython",
    "version": 3
   },
   "file_extension": ".py",
   "mimetype": "text/x-python",
   "name": "python",
   "nbconvert_exporter": "python",
   "pygments_lexer": "ipython3",
   "version": "3.6.4"
  }
 },
 "nbformat": 4,
 "nbformat_minor": 2
}
