{
 "cells": [
  {
   "cell_type": "code",
   "execution_count": null,
   "metadata": {},
   "outputs": [],
   "source": [
    "# sources :\n",
    "# https://www.kaggle.com/serigne/stacked-regressions-top-4-on-leaderboard\n",
    "# https://www.kaggle.com/juliencs/a-study-on-regression-applied-to-the-ames-dataset\n",
    "\n",
    "#### TO DO #####\n",
    "\n",
    "#   Function for preprocessing the data:\n",
    "#    OK incorporez fonction encodage avant de créer les composite features\n",
    "#    OK laisser le OHE à part\n",
    "#    OK mettre à jour les classifs de variables\n",
    "\n",
    "#   Normality tests:\n",
    "#    OK  skewness only for numerical variables (numeric continue)\n",
    "#    OK. Log1 or Log10 ?? stick to log10\n",
    "#    OK. What about composite features created : create them THEN apply Log transformation if skewed\n",
    "#    OK. Review Log10 values (some are NaN ....) ==> Log10 will 'distort' data and give some NaN values, stick to Log1p\n",
    "\n",
    "##  Feature selection :\n",
    "#    OK.settle on the method for selecting correlated feats : Pearson (default in the .corr method)\n",
    "\n",
    "#   Feature engineering :\n",
    "#    1. add polynomial features...?\n",
    "#    2. use clustering (kmeans) like in Linda's hands on workshop to create features\n",
    "#    3. remove atypical sales (foreclosure...)\n",
    "\n",
    "##  Model selection :\n",
    "#    1. only linear regression models (check Kaggle for ideas on best model), \n",
    "#    2. tune models (epsilon for Huber Loss, grid search, etc...)\n",
    "##   OK. create function to select related variables created with OHE\n",
    "\n",
    "### TEST SET : test all the functions (pay attention to columns with different values than in train set...)\n",
    "### TEST SET : can I drop outliers from the TEST set ?\n",
    "\n",
    "\n",
    "##### TOPICS to discuss ####\n",
    "# 1. Normal distribution:\n",
    "#    a. how to assess normality ? skew / kurtosis / tests / visual\n",
    "#.   b. how to achieve normality ? Log Tranform and other / to which type of variable to apply : numeric, categorical\n"
   ]
  },
  {
   "cell_type": "code",
   "execution_count": 1,
   "metadata": {},
   "outputs": [],
   "source": [
    "import pandas as pd\n",
    "import numpy as np\n",
    "import matplotlib.pyplot as plt\n",
    "%matplotlib inline\n",
    "import seaborn as sns\n",
    "sns.set(style=\"whitegrid\")\n",
    "%config InlineBackend.figure_format = 'retina'\n",
    "pd.set_option('display.max_columns', 100)\n",
    "pd.set_option('display.max_rows', 100)\n",
    "from scipy import stats\n",
    "from scipy.stats import norm, skew"
   ]
  },
  {
   "cell_type": "code",
   "execution_count": 2,
   "metadata": {},
   "outputs": [
    {
     "name": "stdout",
     "output_type": "stream",
     "text": [
      "Dataset has 2430 entries and 82 features.\n"
     ]
    }
   ],
   "source": [
    "# loading the data\n",
    "data = pd.read_csv('house-prices.csv')\n",
    "print('Dataset has {} entries and {} features.'.format(data.shape[0], data.shape[1]))"
   ]
  },
  {
   "cell_type": "code",
   "execution_count": 3,
   "metadata": {},
   "outputs": [],
   "source": [
    "# Function for preprocessing the data\n",
    "def preprocess_df(df):\n",
    "    \n",
    "    df_clean = df.copy()\n",
    "    \n",
    "    ###  Removing outliers : very large houses (more than 4000 square feet)\n",
    "    df_clean = df_clean[df_clean['Gr Liv Area'] < 4000]\n",
    "    \n",
    "    ### Handling missing values\n",
    "    # Features that are not necessary\n",
    "    columns_to_drop = ['PID', 'Order']\n",
    "    # Features that most likely does not exist if NaN\n",
    "    columns_to_zero = ['Garage Area', 'Garage Cars', 'Total Bsmt SF', 'Bsmt Half Bath', 'Bsmt Full Bath', \n",
    "                      'BsmtFin SF 1', 'BsmtFin SF 2', 'Bsmt Unf SF']\n",
    "    # Fill with NA\n",
    "    columns_to_NA = ['Pool QC', 'Misc Feature', 'Alley', 'Fence', 'Fireplace Qu', 'Garage Type',\n",
    "                 'Garage Finish','Garage Qual','Garage Cond', 'Bsmt Qual' , 'Bsmt Cond' , 'Bsmt Exposure' ,\n",
    "                 'BsmtFin Type 1' , 'BsmtFin Type 2']\n",
    "    # ...\n",
    "    columns_to_none = ['Mas Vnr Type']\n",
    "    # \n",
    "    columns_to_mean = ['Mas Vnr Area', 'Lot Frontage']\n",
    "    #...\n",
    "    columns_to_mode = ['Electrical']\n",
    "    \n",
    "    df_clean = df_clean.drop(columns_to_drop, axis=1)\n",
    "    df_clean[columns_to_zero] = df[columns_to_zero].fillna(0)\n",
    "    df_clean[columns_to_NA] = df[columns_to_NA].fillna('NA')\n",
    "    df_clean[columns_to_none] = df[columns_to_none].fillna('None')\n",
    "    df_clean[columns_to_mean] = df[columns_to_mean].fillna(df[columns_to_mean].mean())\n",
    "    df_clean[columns_to_mode] = df[columns_to_mode].fillna(df[columns_to_mode].mode().iloc[0,0]) \n",
    "    \n",
    "    ### Feature engineering:\n",
    "    \n",
    "    ## Normalization\n",
    "    # Add a LogSalePrice variable to the DataFrame:\n",
    "    df_clean['LogSalePrice'] = np.log10(df_clean['SalePrice'])\n",
    "    # other features with skewness +- 1\n",
    "    # ...\n",
    "    \n",
    "    ## Total counts:\n",
    "    # Total surface count\n",
    "    df_clean['Total SF'] = df_clean['Total Bsmt SF'] + df_clean['Gr Liv Area']\n",
    "    \n",
    "    # Total room count\n",
    "    df_clean['Total Rooms'] = (df_clean['TotRms AbvGrd'] + df_clean['Bsmt Full Bath'] + \n",
    "                                df_clean['Bsmt Half Bath'] + df_clean['Full Bath'] + df_clean['Half Bath'])\n",
    "    \n",
    "    ## Binary features:\n",
    "    # Built before 1980 & no remodeling\n",
    "    #df_clean['Built/Re bef 80'] = (df_clean['Year Remod/Add'] >1980)*1\n",
    "    \n",
    "    # Creating a 'Remodeled' feature (if YearRemodAdd != YearBuilt) \n",
    "    df_clean['Remodeled'] = (df_clean['Year Remod/Add'] != df_clean['Year Built']) * 1\n",
    "    \n",
    "    # Creating a 'RecentRemodel' feature if a remodeling happenned in the year the house was sold\n",
    "    df_clean['RecentRemodel'] = (df_clean['Year Remod/Add'] == df_clean['Yr Sold']) * 1\n",
    "    \n",
    "    # Creating a 'NewHouse' featureWas this house sold in the year it was built?\n",
    "    df_clean['NewHouse'] = (df_clean['Year Built'] == df_clean['Yr Sold']) * 1\n",
    "\n",
    "    # Age of the house\n",
    "    #adf_cl[\"Age\"] = 2010 - df_clean[\"Year Built\"]\n",
    "       \n",
    "    # Time since sold\n",
    "    #df_clean[\"TimeSinceSold\"] = 2010 - df_clean[\"Yr Sold\"]\n",
    "    \n",
    "    # Sale seasonality feature (high & low season)\n",
    "    df_clean['Sale Season'] = df_clean['Mo Sold'].replace({1:0, 2:0, 3:0, 4:1, 5:1, 6:1, 7:1, 8:1, 9:0, 10:0, 11:0, 12:0})\n",
    "    \n",
    "    ### ENCODING\n",
    "    \n",
    "    # Encoding Ordinal variables:\n",
    "    # assigning a value from 0 (none) / 1 (poor) to 5 or 6 (excellent) to these variables\n",
    "    quality_features = ['Exter Qual', 'Exter Cond', 'Bsmt Qual', 'Bsmt Cond', 'Heating QC', 'Kitchen Qual',\n",
    "                    'Fireplace Qu', 'Garage Qual', 'Garage Cond', 'Pool QC']\n",
    "    df_clean[quality_features] = df_clean[quality_features].replace({\n",
    "        'Ex' : 5, 'Gd' : 4,'TA' : 3, 'Fa' : 2, 'Po' : 1, 'NA' : 0\n",
    "    })\n",
    "    \n",
    "    # Encoding other ordinal variables, with specific 'scales', creating a dict for each variable,\n",
    "    # and using .replace method\n",
    "    other_ord_features = {\n",
    "        'Lot Shape' : {'Reg': 4, 'IR1': 3, 'IR2' : 2, 'IR3' : 1},\n",
    "        'Utilities' : {'AllPub': 4, 'NoSewr': 3, 'NoSeWa': 2, 'ELO': 1},\n",
    "        'Land Slope' : {'Gtl' : 3, 'Mod' : 2, 'Sev' : 1},\n",
    "        'Bsmt Exposure' : {'Gd' : 4, 'Av' : 3,'Mn' : 2, 'No' : 1, 'NA' : 0},\n",
    "        'BsmtFin Type 1' : {'GLQ' : 6, 'ALQ' : 5,'BLQ' : 4, 'Rec' : 3, 'LwQ' : 2, 'Unf' : 1, 'NA' : 0},\n",
    "        'BsmtFin Type 2' : {'GLQ' : 6, 'ALQ' : 5,'BLQ' : 4, 'Rec' : 3, 'LwQ' : 2, 'Unf' : 1, 'NA' : 0},\n",
    "        'Electrical' : {'SBrkr' : 5, 'FuseA' : 4,'FuseF' : 3, 'FuseP' : 2, 'Mix' : 1},\n",
    "        'Functional' : {'Typ' : 8, 'Min1' : 7,'Min2' : 6, 'Mod' : 5, 'Maj1' : 4, 'Maj2' : 3, 'Sev' : 2, 'Sal':1},\n",
    "        'Garage Finish' : {'Fin' : 3, 'RFn' : 2,'Unf' : 1, 'NA' : 0},\n",
    "        'Paved Drive' : {'Y' : 3, 'P' : 2,'N' : 1},\n",
    "        'Fence' : {'GdPrv' : 4, 'MnPrv' : 3,'GdWo' : 2, 'MnWw' : 1, 'NA' : 0}\n",
    "    }\n",
    "    df_clean = df_clean.replace(other_ord_features)  \n",
    "                               \n",
    "    ### Feature engineering continued:\n",
    "    \n",
    "    ## Composite features :\n",
    "    # Overall quality of the house\n",
    "    df_clean['Overall Grade'] = df_clean['Overall Qual'] * df_clean['Overall Cond']\n",
    "\n",
    "    # Overall quality of the garage\n",
    "    df_clean['Garage Grade'] = df_clean['Garage Qual'] * df_clean['Garage Cond']\n",
    "    \n",
    "    # Overall quality of the exterior\n",
    "    df_clean['Exter Grade'] = df_clean['Exter Qual'] * df_clean['Exter Cond']\n",
    "    \n",
    "    # Composite of two most correlated features to the Sale Price : TotalSF & Overall Quality\n",
    "    df_clean['OverallQualxTotalSF'] = df_clean['Total SF'] * df_clean['Overall Qual']\n",
    "    \n",
    "                               \n",
    "    ## Binning years columns\n",
    " \n",
    "    #To DO : replicate to other years columns:\n",
    "    #cols_to_bin = ['Year Built', 'Year Remod/Add', 'Garage Yr Blt', 'Yr Sold']    #keep Yr Sold ? \n",
    "    \n",
    "    pd.options.mode.chained_assignment = None  # disabling warnings on chained assignment, I think this is the right \n",
    "                                                #choice as I am working on a copy anyway\n",
    "    df_clean['Garage Yr Blt'].loc[df_clean['Garage Yr Blt'] <= 1960] = 1\n",
    "    df_clean['Garage Yr Blt'].loc[(df_clean['Garage Yr Blt'] > 1960) & (df_clean['Garage Yr Blt'] <= 1978)] = 2\n",
    "    df_clean['Garage Yr Blt'].loc[(df_clean['Garage Yr Blt'] > 1978) & (df_clean['Garage Yr Blt'] <= 2002)] = 3\n",
    "    df_clean['Garage Yr Blt'].loc[df_clean['Garage Yr Blt'] > 2002] = 4\n",
    "    #create a specific bin for misssing values\n",
    "    df_clean['Garage Yr Blt'].loc[df_clean['Garage Yr Blt'].isnull()] = 0\n",
    "    \n",
    "    # Final check for missing values\n",
    "    print('Dataset has {} entries and {} features.'.format(df_clean.shape[0], df_clean.shape[1]))\n",
    "    print(\"There are\",df_clean.isnull().sum().sum(),\"missing values remaining.\")\n",
    "    \n",
    "    return df_clean"
   ]
  },
  {
   "cell_type": "code",
   "execution_count": 4,
   "metadata": {
    "scrolled": true
   },
   "outputs": [
    {
     "name": "stdout",
     "output_type": "stream",
     "text": [
      "Dataset has 2426 entries and 91 features.\n",
      "There are 0 missing values remaining.\n"
     ]
    }
   ],
   "source": [
    "df_clean = preprocess_df(data)"
   ]
  },
  {
   "cell_type": "code",
   "execution_count": 5,
   "metadata": {},
   "outputs": [],
   "source": [
    "# classify variables\n",
    "\n",
    "# 1 - Numeric variables\n",
    "numeric = ['Lot Frontage', 'Lot Area', 'Mas Vnr Area','BsmtFin SF 1','BsmtFin SF 2','Bsmt Unf SF','Total Bsmt SF',\n",
    "          '1st Flr SF','2nd Flr SF','Low Qual Fin SF','Gr Liv Area','Garage Area','Wood Deck SF','Open Porch SF',\n",
    "           'Enclosed Porch','3Ssn Porch','Screen Porch','Pool Area','Misc Val', 'Total SF',  'OverallQualxTotalSF'\n",
    "          ]\n",
    "# 2 - Categorical variables\n",
    "# 2.1 - Categorical variables, ordinal (possibility of ordering)\n",
    "categorical_ordinal = ['Lot Shape', 'Utilities', 'Land Slope', 'Overall Qual', 'Overall Cond', 'Exter Qual',\n",
    "                      'Exter Cond','Bsmt Qual', 'Bsmt Cond','Bsmt Exposure','BsmtFin Type 1','BsmtFin Type 2',\n",
    "                      'Heating QC','Electrical','Kitchen Qual','Functional','Fireplace Qu','Garage Finish','Garage Qual',\n",
    "                       'Garage Cond','Paved Drive','Pool QC','Fence', 'Overall Grade', 'Garage Grade', 'Exter Grade'\n",
    "                      ]\n",
    "# 2.2 - Categorical variables, nominal (no possibility to order) \n",
    "categorical_nominal = ['MS SubClass','MS Zoning','Street', 'Alley', 'Land Contour', 'Lot Config', 'Neighborhood',\n",
    "                      'Condition 1', 'Condition 2', 'Bldg Type','House Style','Roof Style', 'Roof Matl','Exterior 1st',\n",
    "                      'Exterior 2nd','Mas Vnr Type','Foundation','Heating','Central Air','Garage Type','Misc Feature',\n",
    "                       'Sale Type','Sale Condition', 'Remodeled', 'RecentRemodel', 'NewHouse', 'Sale Season'\n",
    "                      ]\n",
    "# 2.3 - Categorical variables, discrete\n",
    "categorical_discrete = ['Year Built', 'Year Remod/Add','Bsmt Full Bath','Bsmt Half Bath','Full Bath','Half Bath',\n",
    "                       'Bedroom AbvGr','Kitchen AbvGr','TotRms AbvGrd','Fireplaces','Garage Yr Blt','Garage Cars','Mo Sold',\n",
    "                        'Yr Sold', 'Total Rooms'\n",
    "                       ]\n",
    "categorical = categorical_ordinal + categorical_nominal + categorical_discrete"
   ]
  },
  {
   "cell_type": "code",
   "execution_count": 6,
   "metadata": {
    "scrolled": true
   },
   "outputs": [
    {
     "data": {
      "text/plain": [
       "Misc Val               20.885676\n",
       "Pool Area              18.015203\n",
       "Pool QC                17.390010\n",
       "Lot Area               13.140634\n",
       "Low Qual Fin SF        12.456269\n",
       "3Ssn Porch             11.903630\n",
       "NewHouse                5.060548\n",
       "Kitchen AbvGr           4.374352\n",
       "Enclosed Porch          4.184678\n",
       "BsmtFin SF 2            4.032680\n",
       "Bsmt Half Bath          3.993066\n",
       "Screen Porch            3.773936\n",
       "RecentRemodel           3.195104\n",
       "BsmtFin Type 2          3.092316\n",
       "Open Porch SF           2.616856\n",
       "Mas Vnr Area            2.510134\n",
       "Wood Deck SF            1.918250\n",
       "Fence                   1.706178\n",
       "SalePrice               1.604094\n",
       "MS SubClass             1.377146\n",
       "Lot Frontage            1.356486\n",
       "Exter Cond              1.342980\n",
       "OverallQualxTotalSF     1.173100\n",
       "Bsmt Exposure           1.091074\n",
       "1st Flr SF              0.935724\n",
       "Bsmt Unf SF             0.928898\n",
       "Gr Liv Area             0.830759\n",
       "2nd Flr SF              0.829521\n",
       "BsmtFin SF 1            0.813868\n",
       "Exter Grade             0.792116\n",
       "Exter Qual              0.766949\n",
       "Half Bath               0.761075\n",
       "Fireplaces              0.745431\n",
       "TotRms AbvGrd           0.686209\n",
       "Bsmt Full Bath          0.633668\n",
       "Total SF                0.615759\n",
       "Total Rooms             0.545288\n",
       "Overall Cond            0.538728\n",
       "Kitchen Qual            0.416707\n",
       "Total Bsmt SF           0.374311\n",
       "Bedroom AbvGr           0.220649\n",
       "Overall Grade           0.198745\n",
       "Mo Sold                 0.197571\n",
       "Garage Area             0.195003\n",
       "Fireplace Qu            0.189699\n",
       "Overall Qual            0.155876\n",
       "Yr Sold                 0.150286\n",
       "Remodeled               0.145568\n",
       "Garage Finish           0.144849\n",
       "Full Bath               0.126544\n",
       "LogSalePrice           -0.092830\n",
       "Garage Yr Blt          -0.125066\n",
       "BsmtFin Type 1         -0.152459\n",
       "Garage Cars            -0.279200\n",
       "Year Remod/Add         -0.446840\n",
       "Heating QC             -0.531701\n",
       "Sale Season            -0.565782\n",
       "Year Built             -0.594384\n",
       "Lot Shape              -1.198447\n",
       "Bsmt Qual              -1.304440\n",
       "Garage Grade           -2.471712\n",
       "Paved Drive            -2.932360\n",
       "Garage Qual            -3.186442\n",
       "Garage Cond            -3.304132\n",
       "Bsmt Cond              -3.524445\n",
       "Electrical             -4.254599\n",
       "Land Slope             -5.016785\n",
       "Functional             -5.098566\n",
       "Utilities             -33.489892\n",
       "dtype: float64"
      ]
     },
     "execution_count": 6,
     "metadata": {},
     "output_type": "execute_result"
    }
   ],
   "source": [
    "#Normality tests\n",
    "#check if distribution are normal (heavy tail ?) for continuous variables\n",
    "# stick with kurtosis (high tail?) and skewness analysis\n",
    "df_clean.skew().sort_values(ascending = False)"
   ]
  },
  {
   "cell_type": "code",
   "execution_count": null,
   "metadata": {},
   "outputs": [],
   "source": [
    "for col in numeric:\n",
    "    plt.figure(figsize=(3,3))\n",
    "    sns.distplot(df_clean[col])\n",
    "    #plt.hist(df_clean[col])\n",
    "    plt.title(col)\n",
    "    plt.show\n",
    "    print(col, \"Skewness: %f\" % data[col].skew())\n",
    "    print(col, \"Kurtosis: %f\" % data[col].kurt())"
   ]
  },
  {
   "cell_type": "code",
   "execution_count": 7,
   "metadata": {
    "scrolled": false
   },
   "outputs": [
    {
     "name": "stdout",
     "output_type": "stream",
     "text": [
      "\n",
      "Skewed numerical features to log transform: \n",
      "\n"
     ]
    },
    {
     "data": {
      "text/html": [
       "<div>\n",
       "<style scoped>\n",
       "    .dataframe tbody tr th:only-of-type {\n",
       "        vertical-align: middle;\n",
       "    }\n",
       "\n",
       "    .dataframe tbody tr th {\n",
       "        vertical-align: top;\n",
       "    }\n",
       "\n",
       "    .dataframe thead th {\n",
       "        text-align: right;\n",
       "    }\n",
       "</style>\n",
       "<table border=\"1\" class=\"dataframe\">\n",
       "  <thead>\n",
       "    <tr style=\"text-align: right;\">\n",
       "      <th></th>\n",
       "      <th>Skew</th>\n",
       "    </tr>\n",
       "  </thead>\n",
       "  <tbody>\n",
       "    <tr>\n",
       "      <th>Misc Val</th>\n",
       "      <td>20.872760</td>\n",
       "    </tr>\n",
       "    <tr>\n",
       "      <th>Pool Area</th>\n",
       "      <td>18.004062</td>\n",
       "    </tr>\n",
       "    <tr>\n",
       "      <th>Lot Area</th>\n",
       "      <td>13.132508</td>\n",
       "    </tr>\n",
       "    <tr>\n",
       "      <th>Low Qual Fin SF</th>\n",
       "      <td>12.448565</td>\n",
       "    </tr>\n",
       "    <tr>\n",
       "      <th>3Ssn Porch</th>\n",
       "      <td>11.896268</td>\n",
       "    </tr>\n",
       "    <tr>\n",
       "      <th>Enclosed Porch</th>\n",
       "      <td>4.182091</td>\n",
       "    </tr>\n",
       "    <tr>\n",
       "      <th>BsmtFin SF 2</th>\n",
       "      <td>4.030186</td>\n",
       "    </tr>\n",
       "    <tr>\n",
       "      <th>Screen Porch</th>\n",
       "      <td>3.771602</td>\n",
       "    </tr>\n",
       "    <tr>\n",
       "      <th>Open Porch SF</th>\n",
       "      <td>2.615238</td>\n",
       "    </tr>\n",
       "    <tr>\n",
       "      <th>Mas Vnr Area</th>\n",
       "      <td>2.508582</td>\n",
       "    </tr>\n",
       "    <tr>\n",
       "      <th>Wood Deck SF</th>\n",
       "      <td>1.917063</td>\n",
       "    </tr>\n",
       "    <tr>\n",
       "      <th>Lot Frontage</th>\n",
       "      <td>1.355648</td>\n",
       "    </tr>\n",
       "    <tr>\n",
       "      <th>OverallQualxTotalSF</th>\n",
       "      <td>1.172375</td>\n",
       "    </tr>\n",
       "    <tr>\n",
       "      <th>1st Flr SF</th>\n",
       "      <td>0.935146</td>\n",
       "    </tr>\n",
       "    <tr>\n",
       "      <th>Bsmt Unf SF</th>\n",
       "      <td>0.928323</td>\n",
       "    </tr>\n",
       "    <tr>\n",
       "      <th>Gr Liv Area</th>\n",
       "      <td>0.830245</td>\n",
       "    </tr>\n",
       "    <tr>\n",
       "      <th>2nd Flr SF</th>\n",
       "      <td>0.829008</td>\n",
       "    </tr>\n",
       "    <tr>\n",
       "      <th>BsmtFin SF 1</th>\n",
       "      <td>0.813365</td>\n",
       "    </tr>\n",
       "  </tbody>\n",
       "</table>\n",
       "</div>"
      ],
      "text/plain": [
       "                          Skew\n",
       "Misc Val             20.872760\n",
       "Pool Area            18.004062\n",
       "Lot Area             13.132508\n",
       "Low Qual Fin SF      12.448565\n",
       "3Ssn Porch           11.896268\n",
       "Enclosed Porch        4.182091\n",
       "BsmtFin SF 2          4.030186\n",
       "Screen Porch          3.771602\n",
       "Open Porch SF         2.615238\n",
       "Mas Vnr Area          2.508582\n",
       "Wood Deck SF          1.917063\n",
       "Lot Frontage          1.355648\n",
       "OverallQualxTotalSF   1.172375\n",
       "1st Flr SF            0.935146\n",
       "Bsmt Unf SF           0.928323\n",
       "Gr Liv Area           0.830245\n",
       "2nd Flr SF            0.829008\n",
       "BsmtFin SF 1          0.813365"
      ]
     },
     "execution_count": 7,
     "metadata": {},
     "output_type": "execute_result"
    }
   ],
   "source": [
    "# Transform all the skewed feature by taking log ?\n",
    "# skew > 0,75 , considered as moderately to highly skewed\n",
    "# This will make the features more normal.\n",
    "\n",
    "# To do after encoding but BEFORE OHE\n",
    "# TO DO : compléter liste 'numeric' des features crées \n",
    "# Check the skewness of numerical features\n",
    "numeric_features = pd.Index(numeric)\n",
    "\n",
    "skewed_features = df_clean[numeric_features].apply(lambda x: skew(x.dropna()))\n",
    "skewed_features = skewed_features[abs(skewed_features) > 0.75]\n",
    "print(\"\\nSkewed numerical features to log transform: \\n\")\n",
    "skewness = pd.DataFrame({'Skew' :skewed_features})\n",
    "skewness.sort_values(by='Skew', ascending = False)"
   ]
  },
  {
   "cell_type": "code",
   "execution_count": 8,
   "metadata": {},
   "outputs": [
    {
     "name": "stdout",
     "output_type": "stream",
     "text": [
      "18 skewed numerical features to log transform\n"
     ]
    }
   ],
   "source": [
    "## TO do : log 1 or log10 ??\n",
    "\n",
    "# Log transform of the skewed numerical features \n",
    "# As a general rule of thumb, a skewness with an absolute value > 0.5 is considered at least moderately skewed\n",
    "#skewness = train_num.apply(lambda x: skew(x))\n",
    "skewness = skewness[abs(skewness) > 0.75]\n",
    "print(str(skewness.shape[0]) + \" skewed numerical features to log transform\")\n",
    "skewed_features = skewness.index\n",
    "df_clean[skewed_features] = np.log1p(df_clean[skewed_features])"
   ]
  },
  {
   "cell_type": "code",
   "execution_count": 9,
   "metadata": {
    "scrolled": true
   },
   "outputs": [
    {
     "data": {
      "text/plain": [
       "Lot Frontage           -1.070485\n",
       "Lot Area               -0.448306\n",
       "Mas Vnr Area            0.487983\n",
       "BsmtFin SF 1           -0.616978\n",
       "BsmtFin SF 2            2.430884\n",
       "Bsmt Unf SF            -2.106542\n",
       "1st Flr SF             -0.023496\n",
       "2nd Flr SF              0.334585\n",
       "Low Qual Fin SF         9.017904\n",
       "Gr Liv Area            -0.099839\n",
       "Wood Deck SF            0.169100\n",
       "Open Porch SF          -0.043779\n",
       "Enclosed Porch          1.986274\n",
       "3Ssn Porch              9.123319\n",
       "Screen Porch            2.900091\n",
       "Pool Area              15.630145\n",
       "Misc Val                5.153962\n",
       "OverallQualxTotalSF    -0.730520\n",
       "dtype: float64"
      ]
     },
     "execution_count": 9,
     "metadata": {},
     "output_type": "execute_result"
    }
   ],
   "source": [
    "# compare before and after log transform\n",
    "df_clean[skewed_features].skew()"
   ]
  },
  {
   "cell_type": "code",
   "execution_count": null,
   "metadata": {},
   "outputs": [],
   "source": [
    "# Scale the data ? see in EPFL course\n",
    "# Additional processing: scale the data.   \n",
    "from sklearn.preprocessing import StandardScaler\n",
    "scaler = StandardScaler()\n",
    "scaler.fit(train_df_munged[numeric_features])\n",
    "\n",
    "scaled = scaler.transform(train_df_munged[numeric_features])\n",
    "for i, col in enumerate(numeric_features):\n",
    "    train_df_munged[col] = scaled[:, i]\n",
    "\n",
    "scaled = scaler.transform(test_df_munged[numeric_features])\n",
    "for i, col in enumerate(numeric_features):\n",
    "    test_df_munged[col] = scaled[:, i]"
   ]
  },
  {
   "cell_type": "markdown",
   "metadata": {},
   "source": [
    "### 1.3 Outliers"
   ]
  },
  {
   "cell_type": "code",
   "execution_count": null,
   "metadata": {
    "scrolled": false
   },
   "outputs": [],
   "source": [
    "# Find outliers:\n",
    "# plot of SALE PRICE versus GR LIV AREA \n",
    "plt.Figure(figsize=(8,8))\n",
    "plt.scatter(data['SalePrice'], data['Gr Liv Area'] );"
   ]
  },
  {
   "cell_type": "code",
   "execution_count": null,
   "metadata": {},
   "outputs": [],
   "source": [
    "#Remove very large houses (more than 4000 square feet) (this is included in the preprocessing function)\n",
    "#df_clean = df_clean[df_clean['Gr Liv Area'] < 4000]"
   ]
  },
  {
   "cell_type": "code",
   "execution_count": null,
   "metadata": {},
   "outputs": [],
   "source": [
    "#impact of removing theses 4 outliers\n",
    "a = df_clean['Gr Liv Area'].describe() - data['Gr Liv Area'].describe()\n",
    "print(a)\n",
    "plt.Figure(figsize=(8,8))\n",
    "plt.scatter(df_clean['SalePrice'], df_clean['Gr Liv Area']  );\n",
    "plt.show()"
   ]
  },
  {
   "cell_type": "markdown",
   "metadata": {
    "inputHidden": false,
    "outputHidden": false
   },
   "source": [
    "## 2. Encoding"
   ]
  },
  {
   "cell_type": "code",
   "execution_count": 10,
   "metadata": {},
   "outputs": [],
   "source": [
    "# Function to encode df\n",
    "\n",
    "def encode(df):\n",
    "    df_encoded = df.copy()\n",
    "    \n",
    "    # One-hot encoding for nominal variables \n",
    "    df_encoded = pd.get_dummies(df_encoded, columns=categorical_nominal)\n",
    "    \n",
    "    print('Origina Size:', df.shape, 'Size when encoded:', df_encoded.shape)\n",
    "    return df_encoded"
   ]
  },
  {
   "cell_type": "code",
   "execution_count": 11,
   "metadata": {},
   "outputs": [
    {
     "name": "stdout",
     "output_type": "stream",
     "text": [
      "Origina Size: (2426, 91) Size when encoded: (2426, 258)\n"
     ]
    }
   ],
   "source": [
    "df_encoded = encode(df_clean)"
   ]
  },
  {
   "cell_type": "code",
   "execution_count": null,
   "metadata": {},
   "outputs": [],
   "source": [
    "##### TO CHECK : #### Test vs train sets ####\n",
    "\n",
    "# These onehot columns are missing in the test data, so drop them from the\n",
    "# training data or we might overfit on them.\n",
    "drop_cols = [\n",
    "                \"_Exterior1st_ImStucc\", \"_Exterior1st_Stone\",\n",
    "                \"_Exterior2nd_Other\",\"_HouseStyle_2.5Fin\", \n",
    "            \n",
    "                \"_RoofMatl_Membran\", \"_RoofMatl_Metal\", \"_RoofMatl_Roll\",\n",
    "                \"_Condition2_RRAe\", \"_Condition2_RRAn\", \"_Condition2_RRNn\",\n",
    "                \"_Heating_Floor\", \"_Heating_OthW\",\n",
    "\n",
    "                \"_Electrical_Mix\", \n",
    "                \"_MiscFeature_TenC\",\n",
    "                \"_GarageQual_Ex\", \"_PoolQC_Fa\"\n",
    "            ]\n",
    "            ]\n",
    "#train_df.drop(drop_cols, axis=1, inplace=True)\n",
    "\n",
    "\n",
    "# This column is missing in the training data. There is only one example with\n",
    "# this value in the test set. So just drop it.\n",
    "test_df.drop([\"_MSSubClass_150\"], axis=1, inplace=True)\n",
    "\n",
    "# Drop these columns. They are either not very helpful or they cause overfitting.\n",
    "drop_cols = [\n",
    "    \"_Condition2_PosN\",    # only two are not zero\n",
    "    \"_MSZoning_C (all)\",\n",
    "    \"_MSSubClass_160\",\n",
    "]\n",
    "train_df.drop(drop_cols, axis=1, inplace=True)\n",
    "test_df.drop(drop_cols, axis=1, inplace=True)\n"
   ]
  },
  {
   "cell_type": "code",
   "execution_count": null,
   "metadata": {},
   "outputs": [],
   "source": [
    "# Regarding Label Encoder:\n",
    "# after Fred 1-on-1 : \n",
    "# déconseille d'utiliser Laberl encoder,\n",
    "# ratio datapoints vs. nombre colonnes : 10%\n",
    "# va créer une 'relation' ! (qui n'existe pas)\n",
    "\n",
    "##### Here is my problem: #####\n",
    "\n",
    "#2. Label Encoding categorical nominal variables with sklearn LabelEncoder \n",
    "#Labeling with scikit learn (instead of OHE) the categorical_nominal features in order to reduce dimensionality\n",
    "#for cat ORDINAL, the order is not the same, so I stick to the .replace method\n",
    "\n",
    "# import preprocessing from sklearn\n",
    "from sklearn import preprocessing\n",
    "# Create a LabelEncoder object and fit it to each feature in test DF\n",
    "le = preprocessing.LabelEncoder()\n",
    "# use df.apply() to apply le.fit_transform to categorical_nominal features\n",
    "\n",
    "df_le = df_clean.copy()\n",
    "#df_le[categorical_ordinal].apply(le.fit_transform) #not working ?\n",
    "\n",
    "#df_le = df_clean[categorical_nominal].apply(le.fit_transform) # works but has only the transformed columns\n",
    "\n",
    "print('Origina Size:', df_clean.shape)\n",
    "print('Size when Label encoded:', df_le.shape)\n",
    "\n",
    "#I don't understand why the following works, ie. returne the labeled columns\n",
    "df_le[categorical_ordinal].apply(le.fit_transform).head()\n",
    "\n",
    "# but this doesn't return the labeled columns ?\n",
    "df_le[categorical_ordinal] = df_le[categorical_ordinal].apply(le.fit_transform)\n",
    "df_le[categorical_nominal].head()\n",
    "\n",
    "#and this doesn't work neither : \n",
    "df_le.apply(le.fit_transform(df_clean[categorical_nominal]))\n",
    "\n",
    "# It works with a sklearn pipeline, although it's not my code & I did not yet looked further into pipelines\n",
    "from sklearn.preprocessing import LabelEncoder\n",
    "from sklearn.pipeline import Pipeline\n",
    "\n",
    "class MultiColumnLabelEncoder:\n",
    "    def __init__(self,columns = None):\n",
    "        self.columns = columns # array of column names to encode\n",
    "\n",
    "    def fit(self,X,y=None):\n",
    "        return self # not relevant here\n",
    "\n",
    "    def transform(self,X):\n",
    "        '''\n",
    "        Transforms columns of X specified in self.columns using\n",
    "        LabelEncoder(). If no columns specified, transforms all\n",
    "        columns in X.\n",
    "        '''\n",
    "        output = X.copy()\n",
    "        if self.columns is not None:\n",
    "            for col in self.columns:\n",
    "                output[col] = LabelEncoder().fit_transform(output[col])\n",
    "        else:\n",
    "            for colname,col in output.iteritems():\n",
    "                output[colname] = LabelEncoder().fit_transform(col)\n",
    "        return output\n",
    "\n",
    "    def fit_transform(self,X,y=None):\n",
    "        return self.fit(X,y).transform(X)\n",
    "\n",
    "# I want to encode only the categorical_nominal features, while leaving the other features untransformed.\n",
    "#df_le = MultiColumnLabelEncoder(columns = categorical_nominal).fit_transform(df_clean)\n",
    "#df_le.shape"
   ]
  },
  {
   "cell_type": "markdown",
   "metadata": {},
   "source": [
    "## 3. Feature engineering\n"
   ]
  },
  {
   "cell_type": "code",
   "execution_count": null,
   "metadata": {},
   "outputs": [],
   "source": [
    "# Let's have a closer look at the target variable: before removing outliers, skewed distribution\n",
    "sns.distplot(data['SalePrice']);\n",
    "print(\"Skewness: %f\" % data['SalePrice'].skew())\n",
    "print(\"Kurtosis: %f\" % data['SalePrice'].kurt())"
   ]
  },
  {
   "cell_type": "code",
   "execution_count": null,
   "metadata": {
    "scrolled": true
   },
   "outputs": [],
   "source": [
    "#After removing outliers, reduces skewness a bit\n",
    "sns.distplot(df_clean['SalePrice']);\n",
    "print(\"Skewness: %f\" % df_clean['SalePrice'].skew())\n",
    "print(\"Kurtosis: %f\" % df_clean['SalePrice'].kurt())"
   ]
  },
  {
   "cell_type": "code",
   "execution_count": null,
   "metadata": {},
   "outputs": [],
   "source": [
    "# Add a LogSalePrice variable to the DataFrame (this is included in the preprocessing function)\n",
    "#df_clean['LogSalePrice'] = np.log10(df_clean['SalePrice'])"
   ]
  },
  {
   "cell_type": "code",
   "execution_count": null,
   "metadata": {},
   "outputs": [],
   "source": [
    "# plot of the log10 of SalePrice :, skewness reduced\n",
    "sns.distplot(df_clean['LogSalePrice']);\n",
    "print(\"Skewness: %f\" % df_clean['LogSalePrice'].skew())\n",
    "print(\"Kurtosis: %f\" % df_clean['LogSalePrice'].kurt())"
   ]
  },
  {
   "cell_type": "code",
   "execution_count": null,
   "metadata": {
    "scrolled": true
   },
   "outputs": [],
   "source": [
    "# Total surface count\n",
    "#df_clean['TotalSF'] = df_clean['Total Bsmt SF'] + df_clean['Gr Liv Area']\n",
    "print(df_clean['Total SF'].describe())"
   ]
  },
  {
   "cell_type": "code",
   "execution_count": null,
   "metadata": {
    "scrolled": true
   },
   "outputs": [],
   "source": [
    "# Total count of rooms\n",
    "#df_clean['Total_rooms'] = (df_clean['TotRms AbvGrd'] + df_clean[''Bsmt Full Bath'] + \n",
    "#                                df_clean['Bsmt Half Bath'] + df_clean['Full Bath'] + df_clean['Half Bath']) \n",
    "\n",
    "total_rooms = ['TotRms AbvGrd', 'Bsmt Full Bath', 'Bsmt Half Bath', 'Full Bath', 'Half Bath']\n",
    "print(df_clean[total_rooms].describe())"
   ]
  },
  {
   "cell_type": "code",
   "execution_count": null,
   "metadata": {},
   "outputs": [],
   "source": [
    "# indicator variables (year of construction is older than some threshold)\n",
    "# Built before 1980 & no remodeling \n",
    "# df_clean['Built/Re bef 80'] = (df_clean['Year Remod/Add'] >1980)*1\n",
    "\n",
    "sns.distplot(df_clean['Year Remod/Add']);\n",
    "print(df_clean['Year Remod/Add'].describe())\n",
    "\n",
    "# or just add a 'Remodeled' feature :\n",
    "# If YearRemodAdd != YearBuilt, then a remodeling took place at some point.\n",
    "# df_clean[\"Remodeled\"] = (df_clean[\"Year Remod/Add\"] != df_clean[\"Year Built\"]) * 1"
   ]
  },
  {
   "cell_type": "code",
   "execution_count": null,
   "metadata": {},
   "outputs": [],
   "source": [
    "# create a seasonality feature\n",
    "\n",
    "#visual rerpresentation of sales per given month\n",
    "grp = df_clean.groupby(['Yr Sold','Mo Sold'])\n",
    "piv = grp.count()['SalePrice'].reset_index()\n",
    "piv.columns = ['Overall Qual','Mo Sold','SalePrice']\n",
    "sns.pointplot(x='Mo Sold', y='SalePrice', hue='Overall Qual', data=piv, join=True)\n",
    "plt.legend(loc='best', bbox_to_anchor=(1.05, 0.8, 0.2, 0));\n",
    "\n",
    "#create a feature with a 'high season' and 'low season'\n",
    "#df_clean['SaleSeason'] = df_clean['Mo Sold'].replace({1:0, 2:0, 3:0, 4:1, 5:1, 6:1, 7:1, 8:1, 9:0, 10:0, 11:0, 12:0})"
   ]
  },
  {
   "cell_type": "code",
   "execution_count": null,
   "metadata": {},
   "outputs": [],
   "source": [
    "# Creation of a composite feature : TotalSF * Overall Quality:\n",
    "# df_clean['OverallQualxTotalSF'] = df_clean['TotalSF'] * df_clean['Overall Qual']"
   ]
  },
  {
   "cell_type": "code",
   "execution_count": null,
   "metadata": {
    "scrolled": true
   },
   "outputs": [],
   "source": [
    "#add polynomial features...?\n",
    "# to which variable ? to the most correlated one ? we are looking to add linearity...\n",
    "\n",
    "## USE polynomial func (see EPFL course)\n",
    "# 3* Polynomials on the top 10 existing features\n",
    "train[\"OverallQual-s2\"] = train[\"OverallQual\"] ** 2\n",
    "train[\"OverallQual-s3\"] = train[\"OverallQual\"] ** 3\n",
    "train[\"OverallQual-Sq\"] = np.sqrt(train[\"OverallQual\"])"
   ]
  },
  {
   "cell_type": "code",
   "execution_count": null,
   "metadata": {},
   "outputs": [],
   "source": [
    "# remove atypical sales (foreclosure...)\n",
    "df_encoded['Sale Condition_Abnorml'].value_counts()"
   ]
  },
  {
   "cell_type": "markdown",
   "metadata": {},
   "source": [
    "## 4. Feature selection"
   ]
  },
  {
   "cell_type": "code",
   "execution_count": null,
   "metadata": {},
   "outputs": [],
   "source": [
    "# 3 models, with few to all features\n",
    "# choose the features : \n",
    "# scatter plot against sales price to prove the point\n",
    "# !! the use of scatter plots instead of boxplots, which are more suitable for categorical variables visualization.\n",
    "\n",
    "# collinear variables: what to do with highly collinear variables ?\n",
    "\n",
    "# 1) without any in depth analysis, I would say that the most important features are =\n",
    "# OverallQual (which is a variable that I don't like because I don't know how it was computed; a funny exercise would be to predict 'OverallQual' using all the other variables available).\n",
    "# YearBuilt.\n",
    "# TotalBsmtSF.\n",
    "# GrLivArea."
   ]
  },
  {
   "cell_type": "markdown",
   "metadata": {},
   "source": [
    "### 4.1 Univariate feature selection\n",
    "Univariate feature selection examines each feature individually to determine the strength of the relationship of the feature with the response variable.\n",
    "\n"
   ]
  },
  {
   "cell_type": "markdown",
   "metadata": {},
   "source": [
    "### 4.1.1 Pearson correlation coef\n",
    "One of the simplest method for understanding a feature’s relation to the response variable is Pearson correlation coefficient, which measures linear correlation between two variables. The resulting value lies in [-1;1]\n",
    "\n",
    "__Works good when linear relation between feature and target__\n",
    "\n",
    "There are at least two reasons why to prefer Pearson correlation over more sophisticated methods such as MIC or distance correlation when the relationship is close to linear. For one, computing the Pearson correlation is much faster, which may be important in case of big datasets. Secondly, the range of the correlation coefficient is [-1;1] (instead of [0;1] for MIC and distance correlation). This can relay useful extra information on whether the relationship is negative or positive, i.e. do higher feature values imply higher values of the response variables or vice versa. But of course the question of negative versus positive correlation is only well-posed if the relationship between the two variables is monotonic\n"
   ]
  },
  {
   "cell_type": "code",
   "execution_count": null,
   "metadata": {},
   "outputs": [],
   "source": [
    "# FRED:\n",
    "\n",
    "# p value : corrélation due au hasard ?\n",
    "# p value < 5% \n",
    "# cf. intro to stat learning\n",
    "#éventuellement utiliser sklearn feature selection http://scikit-learn.org/stable/modules/feature_selection.html\n",
    "#pearson correl : soit très corrélée soit -1\n",
    "#approche quant (ce cours) vs. qual"
   ]
  },
  {
   "cell_type": "code",
   "execution_count": 12,
   "metadata": {},
   "outputs": [
    {
     "name": "stdout",
     "output_type": "stream",
     "text": [
      "SalePrice              1.000000\n",
      "LogSalePrice           0.947439\n",
      "OverallQualxTotalSF    0.828420\n",
      "Total SF               0.821375\n",
      "Overall Qual           0.805112\n",
      "Exter Qual             0.706781\n",
      "Gr Liv Area            0.691521\n",
      "Kitchen Qual           0.674688\n",
      "Total Bsmt SF          0.664309\n",
      "Garage Cars            0.648363\n",
      "Garage Area            0.639412\n",
      "Total Rooms            0.620936\n",
      "1st Flr SF             0.614858\n",
      "Bsmt Qual              0.607464\n",
      "Garage Yr Blt          0.585149\n",
      "Exter Grade            0.577145\n",
      "Year Built             0.567879\n",
      "Overall Grade          0.561023\n",
      "Garage Finish          0.553746\n",
      "Fireplace Qu           0.553327\n",
      "Year Remod/Add         0.536960\n",
      "Full Bath              0.534234\n",
      "Fireplaces             0.492890\n",
      "TotRms AbvGrd          0.486225\n",
      "Mas Vnr Area           0.460767\n",
      "Heating QC             0.452533\n",
      "Open Porch SF          0.434783\n",
      "Bsmt Exposure          0.416925\n",
      "Lot Area               0.360621\n",
      "BsmtFin Type 1         0.348346\n",
      "RecentRemodel          0.338120\n",
      "Wood Deck SF           0.329482\n",
      "Lot Frontage           0.324307\n",
      "Lot Shape              0.300987\n",
      "Garage Grade           0.300193\n",
      "Garage Qual            0.286797\n",
      "Bsmt Full Bath         0.284604\n",
      "Paved Drive            0.284332\n",
      "Half Bath              0.278820\n",
      "Garage Cond            0.268781\n",
      "Electrical             0.241032\n",
      "BsmtFin SF 1           0.234647\n",
      "NewHouse               0.231303\n",
      "Bsmt Cond              0.215469\n",
      "Enclosed Porch         0.201055\n",
      "Fence                  0.170629\n",
      "Bsmt Unf SF            0.161277\n",
      "Functional             0.131997\n",
      "Bedroom AbvGr          0.127555\n",
      "Kitchen AbvGr          0.121355\n",
      "Screen Porch           0.111415\n",
      "Overall Cond           0.104294\n",
      "2nd Flr SF             0.098168\n",
      "MS SubClass            0.089761\n",
      "Pool QC                0.076091\n",
      "Land Slope             0.072036\n",
      "Remodeled              0.060931\n",
      "Misc Val               0.059715\n",
      "Pool Area              0.054140\n",
      "Low Qual Fin SF        0.044373\n",
      "Mo Sold                0.041314\n",
      "3Ssn Porch             0.040542\n",
      "Sale Season            0.039801\n",
      "Bsmt Half Bath         0.038943\n",
      "Utilities              0.028864\n",
      "BsmtFin SF 2           0.028219\n",
      "Yr Sold                0.023337\n",
      "BsmtFin Type 2         0.021791\n",
      "Exter Cond             0.015324\n",
      "Name: SalePrice, dtype: float64\n"
     ]
    }
   ],
   "source": [
    "# for the second model, take the most correlated features in abs value (is this pearson correl ?)\n",
    "corr = df_clean.corr()\n",
    "corr_abs = corr['SalePrice'].abs().sort_values(ascending=False)\n",
    "print(corr_abs)"
   ]
  },
  {
   "cell_type": "code",
   "execution_count": null,
   "metadata": {},
   "outputs": [],
   "source": [
    "#this is correl after OHE\n",
    "corr = df_encoded.corr()\n",
    "corr.sort_values([\"SalePrice\"], ascending = False, inplace = True)\n",
    "print(corr.SalePrice)"
   ]
  },
  {
   "cell_type": "markdown",
   "metadata": {},
   "source": [
    "__better method :__ \n",
    " Scipy‘s pearsonr method computes both the correlation and p-value for the correlation, roughly showing the probability of an uncorrelated system creating a correlation value of this magnitude."
   ]
  },
  {
   "cell_type": "code",
   "execution_count": null,
   "metadata": {},
   "outputs": [],
   "source": [
    "# same corr matrix but presented graphically:\n",
    "corrmat = data.corr()\n",
    "f, ax = plt.subplots(figsize=(12, 9))\n",
    "sns.heatmap(corrmat, vmax=.8, square=True);"
   ]
  },
  {
   "cell_type": "code",
   "execution_count": null,
   "metadata": {},
   "outputs": [],
   "source": [
    "# we detect highly collinear variables in the heatmap (light squares) :\n",
    "# Total Bsmt SF & 1st Floor SF\n",
    "# Garage features"
   ]
  },
  {
   "cell_type": "code",
   "execution_count": null,
   "metadata": {},
   "outputs": [],
   "source": [
    "# most correlated features\n",
    "corrmat = df_clean.corr()\n",
    "top_corr_features = corrmat.index[abs(corrmat[\"SalePrice\"])>0.5]\n",
    "plt.figure(figsize=(10,10))\n",
    "g = sns.heatmap(df_clean[top_corr_features].corr(),annot=True)"
   ]
  },
  {
   "cell_type": "code",
   "execution_count": null,
   "metadata": {},
   "outputs": [],
   "source": [
    "# error on this graph ??\n",
    "# heatmap zoomed on Sale Price\n",
    "k = 10 #number of variables for heatmap\n",
    "cols = corrmat.nlargest(k, 'SalePrice')['SalePrice'].index\n",
    "cm = np.corrcoef(data[cols].values.T)\n",
    "sns.set(font_scale=1.25)\n",
    "hm = sns.heatmap(cm, cbar=True, annot=True, square=True, fmt='.2f', annot_kws={'size': 10}, yticklabels=cols.values, xticklabels=cols.values)\n",
    "plt.show()"
   ]
  },
  {
   "cell_type": "code",
   "execution_count": null,
   "metadata": {},
   "outputs": [],
   "source": [
    "# focus on year built : onlys slightly correlated\n",
    "#'OverallQual', 'GrLivArea' and 'TotalBsmtSF' are strongly correlated with 'SalePrice'. \n",
    "# garage : only pick one\n",
    "# 'TotalBsmtSF' and '1stFloor': only pick one\n",
    "#'TotRmsAbvGrd' and 'GrLivArea', only pick one"
   ]
  },
  {
   "cell_type": "code",
   "execution_count": null,
   "metadata": {},
   "outputs": [],
   "source": [
    "cols = ['SalePrice', 'Garage Cars', 'Garage Area']\n",
    "corr = data[cols].corr()\n",
    "corr.sort_values([\"SalePrice\"], ascending = False, inplace = True)\n",
    "print(corr.SalePrice)"
   ]
  },
  {
   "cell_type": "code",
   "execution_count": null,
   "metadata": {
    "scrolled": false
   },
   "outputs": [],
   "source": [
    "cols = ['Garage Cars', 'Garage Area']\n",
    "corr = data[cols].corr()\n",
    "corr.sort_values(['Garage Cars'], ascending = False, inplace = True)\n",
    "print(corr['Garage Cars'])"
   ]
  },
  {
   "cell_type": "markdown",
   "metadata": {},
   "source": [
    "#### now, plot the data\n",
    "__relying only on the correlation value on interpreting the relationship of two variables can be highly misleading, so it is always worth plotting the data__"
   ]
  },
  {
   "cell_type": "code",
   "execution_count": null,
   "metadata": {},
   "outputs": [],
   "source": [
    "#scatter plot grlivarea/saleprice\n",
    "var = 'Gr Liv Area'\n",
    "data.plot.scatter(x=var, y='SalePrice', ylim=(0,800000));"
   ]
  },
  {
   "cell_type": "code",
   "execution_count": null,
   "metadata": {},
   "outputs": [],
   "source": [
    "#scatter plot totalbsmtsf/saleprice\n",
    "var = 'Total Bsmt SF'\n",
    "data.plot.scatter(x=var, y='SalePrice', ylim=(0,800000));"
   ]
  },
  {
   "cell_type": "code",
   "execution_count": null,
   "metadata": {},
   "outputs": [],
   "source": [
    "# relationship with categorical features\n",
    "#box plot overallqual/saleprice\n",
    "var = 'Overall Qual'\n",
    "f, ax = plt.subplots(figsize=(8, 6))\n",
    "fig = sns.boxplot(x=var, y=\"SalePrice\", data=data)\n",
    "fig.axis(ymin=0, ymax=800000);"
   ]
  },
  {
   "cell_type": "code",
   "execution_count": null,
   "metadata": {},
   "outputs": [],
   "source": [
    "var = 'Year Built'\n",
    "f, ax = plt.subplots(figsize=(16, 8))\n",
    "fig = sns.boxplot(x=var, y=\"SalePrice\", data=data)\n",
    "fig.axis(ymin=0, ymax=800000);\n",
    "plt.xticks(rotation=90);"
   ]
  },
  {
   "cell_type": "markdown",
   "metadata": {},
   "source": [
    "#### Feature selection : conclusion\n",
    "GrLivArea' and 'TotalBsmtSF' seem to be linearly related with 'SalePrice'. Both relationships are positive, which means that as one variable increases, the other also increases. In the case of 'TotalBsmtSF', we can see that the slope of the linear relationship is particularly high.\n",
    "'OverallQual' and 'YearBuilt' also seem to be related with 'SalePrice'. The relationship seems to be stronger in the case of 'OverallQual', where the box plot shows how sales prices increase with the overall quality."
   ]
  },
  {
   "cell_type": "markdown",
   "metadata": {
    "inputHidden": false,
    "outputHidden": false
   },
   "source": [
    "### 5. Model selection"
   ]
  },
  {
   "cell_type": "markdown",
   "metadata": {},
   "source": [
    "You can then create and evaluate different models. Split the data into train and test sets (50-50 split). Fit your model using the train set and evaluate it using the test one. Your analysis should include the following models.\n",
    "\n",
    "A \"simple\" model with two variables (three with the target variable)\n",
    "An \"intermediate\" model (between 10 and 20 variables).\n",
    "A \"complex model\" with all variables.\n",
    "Count the number of variables before applying one-hot encoding. Also, these variables can be combinations of other variables. For instance, the author of the data set suggests fitting a model using the total surface and the sale condition. This model has a total of two variables even if the total surface is itself a combination of two variables (basement + above grade surfaces) and encoding the sale condition variable with one-hot encoding leads to the creation of 6 dummy variables.\n",
    "\n",
    "Try adding regularization (i.e., Ridge regression) for the intermediate and complex models. Tune the regularization strength using grid search.\n",
    "\n",
    "Important: Remember to use the logarithm of the sale prices to fit your models.\n",
    "\n"
   ]
  },
  {
   "cell_type": "code",
   "execution_count": null,
   "metadata": {},
   "outputs": [],
   "source": [
    "## only linear regression models ??\n",
    "# lr, huber loss, SGD, RIDGE Regression ?"
   ]
  },
  {
   "cell_type": "code",
   "execution_count": 13,
   "metadata": {},
   "outputs": [
    {
     "name": "stdout",
     "output_type": "stream",
     "text": [
      "Train DataFrame: (1213, 258)\n",
      "Test DataFrame: (1213, 258)\n"
     ]
    }
   ],
   "source": [
    "from sklearn.model_selection import train_test_split\n",
    "\n",
    "# Split into train/test sets\n",
    "train_df, test_df = train_test_split(df_encoded, train_size=0.5, test_size=0.5, random_state=0)\n",
    "\n",
    "print('Train DataFrame:', train_df.shape)\n",
    "print('Test DataFrame:', test_df.shape)"
   ]
  },
  {
   "cell_type": "code",
   "execution_count": 14,
   "metadata": {},
   "outputs": [],
   "source": [
    "# Function to create variables\n",
    "# TO check if working every time\n",
    "#maybe a problem with the tuple returned and its decomposition\n",
    "\n",
    "def create_variables(features, target):\n",
    "    X_tr, y_tr, X_te, y_te = None, None, None, None  # is it worth doing this ? Variables inside a function are 'new'??\n",
    "    X_tr = train_df[features].values\n",
    "    y_tr = train_df[target].values\n",
    "    X_te = test_df[features].values \n",
    "    y_te = test_df[target].values\n",
    "    print('X_tr shape:', X_tr.shape, 'y_tr shape:', y_tr.shape,'X_te shape:', X_te.shape, 'y_te shape:', y_te.shape)\n",
    "    return X_tr, y_tr, X_te, y_te"
   ]
  },
  {
   "cell_type": "code",
   "execution_count": 15,
   "metadata": {},
   "outputs": [],
   "source": [
    "# Define error metric : \n",
    "# Root mean squared error\n",
    "def RMSE(y, y_pred):\n",
    "    mse = np.mean(np.square(y - y_pred)) \n",
    "    return np.sqrt(mse) \n",
    "\n",
    "# Mean absolute error\n",
    "def MAE(y, y_pred):\n",
    "    return np.mean(np.abs(y - y_pred))    "
   ]
  },
  {
   "cell_type": "code",
   "execution_count": 16,
   "metadata": {},
   "outputs": [],
   "source": [
    "from sklearn.linear_model import LinearRegression, HuberRegressor\n",
    "\n",
    "# Function to fit a linear regression\n",
    "def fit_lr(X_train, y_train, X_test):\n",
    "    # Create a linear regression\n",
    "    lr = LinearRegression()\n",
    "    \n",
    "    # Fit it to train data\n",
    "    lr.fit(X_train, y_train)\n",
    "    \n",
    "    # Compute predictions for test set\n",
    "    y_pred = lr.predict(X_test)\n",
    "    #print(\"Linear regression coefficients:\",lr.coef_)\n",
    "    return y_pred\n",
    "\n",
    "# Function to fit Huber loss\n",
    "def fit_hl(X_train, y_train, X_test):\n",
    "    huber = HuberRegressor(epsilon=1.45)\n",
    "    huber.fit(X_train, y_train) # Fit to train data\n",
    "    y_pred = huber.predict(X_test) #compute predictions for test set\n",
    "    return y_pred"
   ]
  },
  {
   "cell_type": "markdown",
   "metadata": {},
   "source": [
    "#### \"Simple\" model with two variables (three with the target variable)\n"
   ]
  },
  {
   "cell_type": "code",
   "execution_count": 17,
   "metadata": {},
   "outputs": [
    {
     "name": "stdout",
     "output_type": "stream",
     "text": [
      "X_tr shape: (1213, 2) y_tr shape: (1213,) X_te shape: (1213, 2) y_te shape: (1213,)\n"
     ]
    }
   ],
   "source": [
    "features = ['Overall Qual', 'Gr Liv Area']\n",
    "\n",
    "# Create X/y variables\n",
    "\n",
    "#using the function create_variables:\n",
    "X_tr, y_tr, X_te, y_te = create_variables(features, 'LogSalePrice')\n",
    "\n",
    "#X_tr = train_df[features].values\n",
    "#y_tr = train_df.LogSalePrice.values\n",
    "#X_te = test_df[features].values \n",
    "#y_te = test_df.LogSalePrice.values\n",
    "\n",
    "#print('X_tr shape:', X_tr.shape, 'y_tr shape:', y_tr.shape,'X_te shape:', X_te.shape, 'y_te shape:', y_te.shape)"
   ]
  },
  {
   "cell_type": "code",
   "execution_count": 18,
   "metadata": {
    "scrolled": true
   },
   "outputs": [
    {
     "name": "stdout",
     "output_type": "stream",
     "text": [
      "RMSE baseline: 0.178\n",
      "MAE baseline: 54125.121\n"
     ]
    }
   ],
   "source": [
    "# Median baseline\n",
    "rmse_baseline = RMSE(y_te, np.median(y_te))\n",
    "mae_baseline = MAE(10**y_te, np.median(10**y_te))\n",
    "\n",
    "print('RMSE baseline: {:.3f}'.format(rmse_baseline))\n",
    "print('MAE baseline: {:.3f}'.format(mae_baseline))"
   ]
  },
  {
   "cell_type": "code",
   "execution_count": 19,
   "metadata": {},
   "outputs": [
    {
     "name": "stdout",
     "output_type": "stream",
     "text": [
      "RMSE linear regression: 0.089\n",
      "MAE linear regression: 24699.855\n"
     ]
    }
   ],
   "source": [
    "# Linear regression\n",
    "y_pred = fit_lr(X_tr, y_tr, X_te)\n",
    "rmse_lr = RMSE(y_te, y_pred)\n",
    "mae_lr = MAE(10**y_te, 10**y_pred)\n",
    "\n",
    "print('RMSE linear regression: {:.3f}'.format(rmse_lr))\n",
    "print('MAE linear regression: {:.3f}'.format(mae_lr))"
   ]
  },
  {
   "cell_type": "markdown",
   "metadata": {},
   "source": [
    "#### \"Simple\" model with two variables (three with the target variable) - 2"
   ]
  },
  {
   "cell_type": "code",
   "execution_count": 27,
   "metadata": {},
   "outputs": [
    {
     "name": "stdout",
     "output_type": "stream",
     "text": [
      "X_tr shape: (1213, 2) y_tr shape: (1213,) X_te shape: (1213, 2) y_te shape: (1213,)\n",
      "RMSE baseline: 0.178\n",
      "MAE baseline: 54125.121\n",
      "RMSE linear regression: 0.082\n",
      "MAE linear regression: 21975.992\n"
     ]
    }
   ],
   "source": [
    "features = ['OverallQualxTotalSF', 'Exter Grade']\n",
    "\n",
    "# Create X/y variables\n",
    "X_tr, y_tr, X_te, y_te = create_variables(features, 'LogSalePrice')\n",
    "\n",
    "# Median baseline\n",
    "rmse_baseline = RMSE(y_te, np.median(y_te))\n",
    "mae_baseline = MAE(10**y_te, np.median(10**y_te))\n",
    "\n",
    "print('RMSE baseline: {:.3f}'.format(rmse_baseline))\n",
    "print('MAE baseline: {:.3f}'.format(mae_baseline))\n",
    "\n",
    "# Linear regression\n",
    "y_pred = fit_lr(X_tr, y_tr, X_te)\n",
    "rmse_lr = RMSE(y_te, y_pred)\n",
    "mae_lr = MAE(10**y_te, 10**y_pred)\n",
    "\n",
    "print('RMSE linear regression: {:.3f}'.format(rmse_lr))\n",
    "print('MAE linear regression: {:.3f}'.format(mae_lr))"
   ]
  },
  {
   "cell_type": "markdown",
   "metadata": {},
   "source": [
    "#### \"Simple\" model with two variables (three with the target variable) - 3"
   ]
  },
  {
   "cell_type": "code",
   "execution_count": 53,
   "metadata": {
    "scrolled": true
   },
   "outputs": [
    {
     "name": "stdout",
     "output_type": "stream",
     "text": [
      "X_tr shape: (1213, 7) y_tr shape: (1213,) X_te shape: (1213, 7) y_te shape: (1213,)\n",
      "RMSE baseline: 0.178\n",
      "MAE baseline: 54125.121\n",
      "RMSE linear regression: 0.082\n",
      "MAE linear regression: 22568.462\n"
     ]
    }
   ],
   "source": [
    "features = ['OverallQualxTotalSF'] + df_encoded.filter(like='Sale Cond').columns.tolist()\n",
    "\n",
    "# Create X/y variables\n",
    "X_tr, y_tr, X_te, y_te = create_variables(features, 'LogSalePrice')\n",
    "\n",
    "# Median baseline\n",
    "rmse_baseline = RMSE(y_te, np.median(y_te))\n",
    "mae_baseline = MAE(10**y_te, np.median(10**y_te))\n",
    "\n",
    "print('RMSE baseline: {:.3f}'.format(rmse_baseline))\n",
    "print('MAE baseline: {:.3f}'.format(mae_baseline))\n",
    "\n",
    "# Linear regression\n",
    "y_pred = fit_lr(X_tr, y_tr, X_te)\n",
    "rmse_lr = RMSE(y_te, y_pred)\n",
    "mae_lr = MAE(10**y_te, 10**y_pred)\n",
    "\n",
    "print('RMSE linear regression: {:.3f}'.format(rmse_lr))\n",
    "print('MAE linear regression: {:.3f}'.format(mae_lr))"
   ]
  },
  {
   "cell_type": "markdown",
   "metadata": {},
   "source": [
    "#### Intermediate model"
   ]
  },
  {
   "cell_type": "code",
   "execution_count": 89,
   "metadata": {},
   "outputs": [
    {
     "name": "stdout",
     "output_type": "stream",
     "text": [
      "['OverallQualxTotalSF', 'Exter Qual', 'Total SF', 'Overall Qual', 'Gr Liv Area', 'Garage Yr Blt', 'Garage Finish', 'Garage Cars', 'Garage Area', 'Garage Qual', 'Garage Cond', 'Garage Grade', 'Garage Type_2Types', 'Garage Type_Attchd', 'Garage Type_Basment', 'Garage Type_BuiltIn', 'Garage Type_CarPort', 'Garage Type_Detchd', 'Garage Type_NA', 'Neighborhood_Blmngtn', 'Neighborhood_Blueste', 'Neighborhood_BrDale', 'Neighborhood_BrkSide', 'Neighborhood_ClearCr', 'Neighborhood_CollgCr', 'Neighborhood_Crawfor', 'Neighborhood_Edwards', 'Neighborhood_Gilbert', 'Neighborhood_Greens', 'Neighborhood_GrnHill', 'Neighborhood_IDOTRR', 'Neighborhood_Landmrk', 'Neighborhood_MeadowV', 'Neighborhood_Mitchel', 'Neighborhood_NAmes', 'Neighborhood_NPkVill', 'Neighborhood_NWAmes', 'Neighborhood_NoRidge', 'Neighborhood_NridgHt', 'Neighborhood_OldTown', 'Neighborhood_SWISU', 'Neighborhood_Sawyer', 'Neighborhood_SawyerW', 'Neighborhood_Somerst', 'Neighborhood_StoneBr', 'Neighborhood_Timber', 'Neighborhood_Veenker', 'Remodeled_0', 'Remodeled_1', 'RecentRemodel_0', 'RecentRemodel_1', 'NewHouse_0', 'NewHouse_1', 'Sale Season_0', 'Sale Season_1']\n",
      "X_tr shape: (1213, 55) y_tr shape: (1213,) X_te shape: (1213, 55) y_te shape: (1213,)\n",
      "RMSE baseline: 0.178\n",
      "MAE baseline: 54125.121\n",
      "RMSE linear regression: 0.069\n",
      "RMSE Huber Loss: 0.094\n",
      "MAE linear regression: 17286.931\n",
      "MAE Huber Loss: 27169.331\n"
     ]
    }
   ],
   "source": [
    "features = (['OverallQualxTotalSF', 'Exter Qual', 'Total SF', 'Overall Qual', 'Gr Liv Area'] +\n",
    "            df_encoded.filter(like='Garage').columns.tolist() +\n",
    "            df_encoded.filter(like='Neighborhood').columns.tolist()+\n",
    "           df_encoded.filter(like='Remodeled').columns.tolist()+\n",
    "           df_encoded.filter(like='RecentRemodel').columns.tolist()+\n",
    "           df_encoded.filter(like='NewHouse').columns.tolist()+\n",
    "           df_encoded.filter(like='Sale Season').columns.tolist()\n",
    "           )\n",
    "print(features)\n",
    "\n",
    "# Create X/y variables\n",
    "X_tr, y_tr, X_te, y_te = create_variables(features, 'LogSalePrice')\n",
    "\n",
    "# Median baseline\n",
    "rmse_baseline = RMSE(y_te, np.median(y_te))\n",
    "mae_baseline = MAE(10**y_te, np.median(10**y_te))\n",
    "\n",
    "print('RMSE baseline: {:.3f}'.format(rmse_baseline))\n",
    "print('MAE baseline: {:.3f}'.format(mae_baseline))\n",
    "\n",
    "# Linear regression\n",
    "y_pred = fit_lr(X_tr, y_tr, X_te)\n",
    "rmse_lr = RMSE(y_te, y_pred)\n",
    "mae_lr = MAE(10**y_te, 10**y_pred)\n",
    "\n",
    "# Huber Loss\n",
    "y_pred_hl = fit_hl(X_tr, y_tr, X_te)\n",
    "rmse_hl = RMSE(y_te, y_pred_hl)\n",
    "mae_hl = MAE(10**y_te, 10**y_pred_hl)\n",
    "\n",
    "print('RMSE linear regression: {:.3f}'.format(rmse_lr))\n",
    "print('RMSE Huber Loss: {:.3f}'.format(rmse_hl))\n",
    "print('MAE linear regression: {:.3f}'.format(mae_lr))\n",
    "print('MAE Huber Loss: {:.3f}'.format(mae_hl))"
   ]
  },
  {
   "cell_type": "markdown",
   "metadata": {},
   "source": [
    "#### Model with all the features"
   ]
  },
  {
   "cell_type": "code",
   "execution_count": 87,
   "metadata": {
    "scrolled": true
   },
   "outputs": [
    {
     "name": "stdout",
     "output_type": "stream",
     "text": [
      "X_tr shape: (1213, 256) y_tr shape: (1213,) X_te shape: (1213, 256) y_te shape: (1213,)\n",
      "RMSE linear regression: 0.058\n",
      "RMSE Huber Loss: 0.255\n",
      "MAE linear regression: 13640.402\n",
      "MAE Huber Loss: 81445.987\n"
     ]
    }
   ],
   "source": [
    "# Fitting a model with all the features\n",
    "columns_to_exclude = ['SalePrice','LogSalePrice']\n",
    "features = df_encoded.drop(columns_to_exclude, axis = 1).columns\n",
    "\n",
    "# Create variables\n",
    "X_tr, y_tr, X_te, y_te = create_variables(features, 'LogSalePrice')\n",
    "\n",
    "# Linear regression\n",
    "y_pred = fit_lr(X_tr, y_tr, X_te)\n",
    "rmse_lr = RMSE(y_te, y_pred)\n",
    "mae_lr = MAE(10**y_te, 10**y_pred)\n",
    "\n",
    "# Huber Loss\n",
    "y_pred_hl = fit_hl(X_tr, y_tr, X_te)\n",
    "rmse_hl = RMSE(y_te, y_pred_hl)\n",
    "mae_hl = MAE(10**y_te, 10**y_pred_hl)\n",
    "\n",
    "print('RMSE linear regression: {:.3f}'.format(rmse_lr))\n",
    "print('RMSE Huber Loss: {:.3f}'.format(rmse_hl))\n",
    "print('MAE linear regression: {:.3f}'.format(mae_lr))\n",
    "print('MAE Huber Loss: {:.3f}'.format(mae_hl))"
   ]
  },
  {
   "cell_type": "code",
   "execution_count": null,
   "metadata": {},
   "outputs": [],
   "source": [
    "#ill conditionoing : utiliser ridge regression\n",
    "#checker collinear features\n",
    "# colonnes identiques ? ou colonnes avec données qui changent pas ou peu (variable avec peu d'info à supprimer)\n",
    "#puis voir notebook \"encoding cat var\" pour OHE sur validation set : fonction reindex de pandas"
   ]
  },
  {
   "cell_type": "code",
   "execution_count": 88,
   "metadata": {},
   "outputs": [
    {
     "data": {
      "image/png": "[encoded data removed]",
      "text/plain": [
       "<matplotlib.figure.Figure at 0x1a2000b9e8>"
      ]
     },
     "metadata": {
      "image/png": {
       "height": 248,
       "width": 375
      }
     },
     "output_type": "display_data"
    }
   ],
   "source": [
    "# Plot models\n",
    "sale_price = X_te[:, 0] \n",
    "plt.scatter(sale_price, y_te, s=10, label='test points')\n",
    "plt.scatter(sale_price, y_pred_hl, s=10, label='predictions (huber loss)')\n",
    "plt.legend()\n",
    "plt.show()"
   ]
  },
  {
   "cell_type": "markdown",
   "metadata": {},
   "source": [
    "### Understanding the error metric"
   ]
  },
  {
   "cell_type": "markdown",
   "metadata": {},
   "source": [
    "FRED:\n",
    "You can get the MAE scores in dollars by raising your predictions to power 10: MAE(10**y_te, 10**y_pred) where y_te and y_pred are in \"log10-dollars\". In this project, the MAE metric is very important to get a more intuitive score to report - an MAE of 50,000 means that your predictions are on average 50 thousand dollars away from the observed price. Thanks for asking."
   ]
  },
  {
   "cell_type": "code",
   "execution_count": null,
   "metadata": {},
   "outputs": [],
   "source": [
    "# Final comparison\n",
    "mae_values = [mae_baseline, mae_lr, mae_lr2, mae_wdnwd]\n",
    "titles = ['median', 'lr', 'lr new features', 'two models']\n",
    "\n",
    "xcor = np.arange(len(mae_values))\n",
    "plt.bar(xcor, mae_values)\n",
    "plt.xticks(xcor, titles)\n",
    "\n",
    "plt.ylabel('MAE')\n",
    "plt.show()"
   ]
  }
 ],
 "metadata": {
  "kernelspec": {
   "display_name": "Python 3",
   "language": "python",
   "name": "python3"
  },
  "language_info": {
   "codemirror_mode": {
    "name": "ipython",
    "version": 3
   },
   "file_extension": ".py",
   "mimetype": "text/x-python",
   "name": "python",
   "nbconvert_exporter": "python",
   "pygments_lexer": "ipython3",
   "version": "3.6.4"
  }
 },
 "nbformat": 4,
 "nbformat_minor": 2
}
